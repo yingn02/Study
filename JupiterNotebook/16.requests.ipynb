{
 "cells": [
  {
   "cell_type": "code",
   "execution_count": 2,
   "id": "8235efed",
   "metadata": {},
   "outputs": [
    {
     "data": {
      "text/plain": [
       "<Response [200]>"
      ]
     },
     "execution_count": 2,
     "metadata": {},
     "output_type": "execute_result"
    }
   ],
   "source": [
    "import requests # 404 not found 같은 것을 표시\n",
    "\n",
    "r = requests.get('http://www.google.com')\n",
    "r"
   ]
  },
  {
   "cell_type": "code",
   "execution_count": 4,
   "id": "e7b55b78",
   "metadata": {},
   "outputs": [
    {
     "data": {
      "text/plain": [
       "'<!doctype html><html itemscope=\"\" itemtype=\"http://schema.org/WebPage\" lang=\"ko\"><head><meta content=\"text/html; charset=UTF-8\" http-equiv=\"Content-Type\"><meta content=\"/images/branding/googleg/1x/googleg_standard_color_128dp.png\" itemprop=\"image\"><title>Google</title><script nonce=\"X8LDs3D3p5h0TFRcorBlrg==\">(function(){window.google={kEI:\\'-o9OYoOzM9KL2roPgMiyqAc\\',kEXPI:\\'0,1302536,56873,1710,4348,207,4804,2316,383,246,5,1354,4013,1238,1122515,1197703,380787,16115,19398,9286,17572,4858,1362,283,9007,3029,17580,4020,978,13228,3847,4192,6430,22743,5079,1593,1279,2742,149,1103,840,1030,1166,4101,3514,606,2024,1776,520,14670,3228,2844,7,4811,788,11851,16320,1851,15756,3,346,230,6459,149,13975,4,1528,656,1648,7039,25073,2658,7356,31,18065,9358,7428,5800,2557,4094,17,4035,3,3541,1,16807,25347,2,14022,1931,5589,743,5853,10463,1160,5679,1020,2380,2718,18235,45,2,6,7736,2125,2444,6252,6729,2774,13921,1252,5835,1169,10692,3107,1538,2794,19,4658,1413,1394,445,2,2,1,6395,4910,12125,1100,96,153,1406'"
      ]
     },
     "execution_count": 4,
     "metadata": {},
     "output_type": "execute_result"
    }
   ],
   "source": [
    "import requests\n",
    "\n",
    "r = requests.get('http://www.google.com').text\n",
    "r[0:1000] #구글에서 0부터 1000까지 가져와라"
   ]
  },
  {
   "cell_type": "code",
   "execution_count": 5,
   "id": "f8a37176",
   "metadata": {},
   "outputs": [
    {
     "data": {
      "text/plain": [
       "<html><body><div><span> <a href=\"http://www.naver.com\">naver</a> <a href=\"http://www.google.com\">google</a> </span></div></body></html>"
      ]
     },
     "execution_count": 5,
     "metadata": {},
     "output_type": "execute_result"
    }
   ],
   "source": [
    "from bs4 import BeautifulSoup\n",
    "# 테스트용 html코드\n",
    "html = \"\"\"<html><body><div><span>\\\n",
    "         <a href = http://www.naver.com>naver</a>\\\n",
    "         <a href = http://www.google.com>google</a>\\\n",
    "         </span></div></body></html>\"\"\"\n",
    "\n",
    "soup = BeautifulSoup(html,'lxml')  #lxml은 HTML소스를 처리하기 위한 vktj(parser)\n",
    "soup"
   ]
  },
  {
   "cell_type": "code",
   "execution_count": 6,
   "id": "4f58a7fb",
   "metadata": {},
   "outputs": [
    {
     "name": "stdout",
     "output_type": "stream",
     "text": [
      "<html>\n",
      " <body>\n",
      "  <div>\n",
      "   <span>\n",
      "    <a href=\"http://www.naver.com\">\n",
      "     naver\n",
      "    </a>\n",
      "    <a href=\"http://www.google.com\">\n",
      "     google\n",
      "    </a>\n",
      "   </span>\n",
      "  </div>\n",
      " </body>\n",
      "</html>\n"
     ]
    }
   ],
   "source": [
    "print(soup.prettify())  # prettify() html구조의 형태로 출력하기"
   ]
  },
  {
   "cell_type": "code",
   "execution_count": 7,
   "id": "58f9a6d8",
   "metadata": {},
   "outputs": [
    {
     "data": {
      "text/plain": [
       "<a href=\"http://www.naver.com\">naver</a>"
      ]
     },
     "execution_count": 7,
     "metadata": {},
     "output_type": "execute_result"
    }
   ],
   "source": [
    "soup.find('a') #첫번째 a 태그 찾기"
   ]
  },
  {
   "cell_type": "code",
   "execution_count": 8,
   "id": "53657189",
   "metadata": {},
   "outputs": [
    {
     "data": {
      "text/plain": [
       "'naver'"
      ]
     },
     "execution_count": 8,
     "metadata": {},
     "output_type": "execute_result"
    }
   ],
   "source": [
    "soup.find('a').get_text()  # a태그의 요소에서 텍스트 추출"
   ]
  },
  {
   "cell_type": "code",
   "execution_count": 9,
   "id": "3044880f",
   "metadata": {},
   "outputs": [
    {
     "data": {
      "text/plain": [
       "[<a href=\"http://www.naver.com\">naver</a>,\n",
       " <a href=\"http://www.google.com\">google</a>]"
      ]
     },
     "execution_count": 9,
     "metadata": {},
     "output_type": "execute_result"
    }
   ],
   "source": [
    "soup.find_all('a')  # find_all('a')  a태그 모든 요소 반환"
   ]
  },
  {
   "cell_type": "code",
   "execution_count": 10,
   "id": "e932dbbf",
   "metadata": {},
   "outputs": [
    {
     "name": "stdout",
     "output_type": "stream",
     "text": [
      "naver\n",
      "google\n"
     ]
    }
   ],
   "source": [
    "site_names = soup.find_all('a')\n",
    "for site_name in site_names:\n",
    "    print(site_name.get_text())"
   ]
  },
  {
   "cell_type": "code",
   "execution_count": null,
   "id": "ab5d537b",
   "metadata": {},
   "outputs": [],
   "source": []
  }
 ],
 "metadata": {
  "kernelspec": {
   "display_name": "Python 3 (ipykernel)",
   "language": "python",
   "name": "python3"
  },
  "language_info": {
   "codemirror_mode": {
    "name": "ipython",
    "version": 3
   },
   "file_extension": ".py",
   "mimetype": "text/x-python",
   "name": "python",
   "nbconvert_exporter": "python",
   "pygments_lexer": "ipython3",
   "version": "3.9.7"
  }
 },
 "nbformat": 4,
 "nbformat_minor": 5
}

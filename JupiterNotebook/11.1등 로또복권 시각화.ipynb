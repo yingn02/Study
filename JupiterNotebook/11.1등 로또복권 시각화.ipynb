{
 "cells": [
  {
   "cell_type": "markdown",
   "id": "695187f0",
   "metadata": {},
   "source": [
    "# 1.파일 불러오기"
   ]
  },
  {
   "cell_type": "code",
   "execution_count": 2,
   "id": "93c6ec20",
   "metadata": {},
   "outputs": [
    {
     "data": {
      "text/html": [
       "<div>\n",
       "<style scoped>\n",
       "    .dataframe tbody tr th:only-of-type {\n",
       "        vertical-align: middle;\n",
       "    }\n",
       "\n",
       "    .dataframe tbody tr th {\n",
       "        vertical-align: top;\n",
       "    }\n",
       "\n",
       "    .dataframe thead th {\n",
       "        text-align: right;\n",
       "    }\n",
       "</style>\n",
       "<table border=\"1\" class=\"dataframe\">\n",
       "  <thead>\n",
       "    <tr style=\"text-align: right;\">\n",
       "      <th></th>\n",
       "      <th>회차</th>\n",
       "      <th>1등당첨자수</th>\n",
       "      <th>1등당첨금액</th>\n",
       "      <th>2등당첨자수</th>\n",
       "      <th>2등당첨금액</th>\n",
       "      <th>3등당첨자수</th>\n",
       "      <th>3등당첨금액</th>\n",
       "      <th>4등당첨자수</th>\n",
       "      <th>4등당첨금액</th>\n",
       "      <th>5등당첨자수</th>\n",
       "      <th>5등당첨금액</th>\n",
       "      <th>당첨번호1</th>\n",
       "      <th>당첨번호2</th>\n",
       "      <th>당첨번호3</th>\n",
       "      <th>당첨번호4</th>\n",
       "      <th>당첨번호5</th>\n",
       "      <th>당첨번호6</th>\n",
       "      <th>보너스번호</th>\n",
       "    </tr>\n",
       "  </thead>\n",
       "  <tbody>\n",
       "    <tr>\n",
       "      <th>0</th>\n",
       "      <td>1008</td>\n",
       "      <td>11</td>\n",
       "      <td>2,267,377,910원</td>\n",
       "      <td>97</td>\n",
       "      <td>42,854,222원</td>\n",
       "      <td>2826</td>\n",
       "      <td>1,470,935원</td>\n",
       "      <td>141072</td>\n",
       "      <td>50,000원</td>\n",
       "      <td>2311009</td>\n",
       "      <td>5,000원</td>\n",
       "      <td>9</td>\n",
       "      <td>11</td>\n",
       "      <td>30</td>\n",
       "      <td>31</td>\n",
       "      <td>41</td>\n",
       "      <td>44</td>\n",
       "      <td>33</td>\n",
       "    </tr>\n",
       "    <tr>\n",
       "      <th>1</th>\n",
       "      <td>1007</td>\n",
       "      <td>9</td>\n",
       "      <td>2,718,786,375원</td>\n",
       "      <td>70</td>\n",
       "      <td>58,259,709원</td>\n",
       "      <td>2844</td>\n",
       "      <td>1,433,960원</td>\n",
       "      <td>137134</td>\n",
       "      <td>50,000원</td>\n",
       "      <td>2256573</td>\n",
       "      <td>5,000원</td>\n",
       "      <td>8</td>\n",
       "      <td>11</td>\n",
       "      <td>16</td>\n",
       "      <td>19</td>\n",
       "      <td>21</td>\n",
       "      <td>25</td>\n",
       "      <td>40</td>\n",
       "    </tr>\n",
       "    <tr>\n",
       "      <th>2</th>\n",
       "      <td>1006</td>\n",
       "      <td>9</td>\n",
       "      <td>2,855,602,125원</td>\n",
       "      <td>65</td>\n",
       "      <td>65,898,511원</td>\n",
       "      <td>2487</td>\n",
       "      <td>1,722,318원</td>\n",
       "      <td>131234</td>\n",
       "      <td>50,000원</td>\n",
       "      <td>2288458</td>\n",
       "      <td>5,000원</td>\n",
       "      <td>8</td>\n",
       "      <td>11</td>\n",
       "      <td>15</td>\n",
       "      <td>16</td>\n",
       "      <td>17</td>\n",
       "      <td>37</td>\n",
       "      <td>36</td>\n",
       "    </tr>\n",
       "    <tr>\n",
       "      <th>3</th>\n",
       "      <td>1005</td>\n",
       "      <td>12</td>\n",
       "      <td>2,061,199,344원</td>\n",
       "      <td>84</td>\n",
       "      <td>49,076,175원</td>\n",
       "      <td>2798</td>\n",
       "      <td>1,473,338원</td>\n",
       "      <td>143067</td>\n",
       "      <td>50,000원</td>\n",
       "      <td>2349017</td>\n",
       "      <td>5,000원</td>\n",
       "      <td>8</td>\n",
       "      <td>13</td>\n",
       "      <td>18</td>\n",
       "      <td>24</td>\n",
       "      <td>27</td>\n",
       "      <td>29</td>\n",
       "      <td>17</td>\n",
       "    </tr>\n",
       "    <tr>\n",
       "      <th>4</th>\n",
       "      <td>1004</td>\n",
       "      <td>10</td>\n",
       "      <td>2,576,251,913원</td>\n",
       "      <td>68</td>\n",
       "      <td>63,143,430원</td>\n",
       "      <td>2785</td>\n",
       "      <td>1,541,743원</td>\n",
       "      <td>140047</td>\n",
       "      <td>50,000원</td>\n",
       "      <td>2340772</td>\n",
       "      <td>5,000원</td>\n",
       "      <td>7</td>\n",
       "      <td>15</td>\n",
       "      <td>30</td>\n",
       "      <td>37</td>\n",
       "      <td>39</td>\n",
       "      <td>44</td>\n",
       "      <td>18</td>\n",
       "    </tr>\n",
       "  </tbody>\n",
       "</table>\n",
       "</div>"
      ],
      "text/plain": [
       "     회차  1등당첨자수          1등당첨금액  2등당첨자수       2등당첨금액  3등당첨자수      3등당첨금액  \\\n",
       "0  1008      11  2,267,377,910원      97  42,854,222원    2826  1,470,935원   \n",
       "1  1007       9  2,718,786,375원      70  58,259,709원    2844  1,433,960원   \n",
       "2  1006       9  2,855,602,125원      65  65,898,511원    2487  1,722,318원   \n",
       "3  1005      12  2,061,199,344원      84  49,076,175원    2798  1,473,338원   \n",
       "4  1004      10  2,576,251,913원      68  63,143,430원    2785  1,541,743원   \n",
       "\n",
       "   4등당첨자수   4등당첨금액   5등당첨자수  5등당첨금액  당첨번호1  당첨번호2  당첨번호3  당첨번호4  당첨번호5  당첨번호6  \\\n",
       "0  141072  50,000원  2311009  5,000원      9     11     30     31     41     44   \n",
       "1  137134  50,000원  2256573  5,000원      8     11     16     19     21     25   \n",
       "2  131234  50,000원  2288458  5,000원      8     11     15     16     17     37   \n",
       "3  143067  50,000원  2349017  5,000원      8     13     18     24     27     29   \n",
       "4  140047  50,000원  2340772  5,000원      7     15     30     37     39     44   \n",
       "\n",
       "   보너스번호  \n",
       "0     33  \n",
       "1     40  \n",
       "2     36  \n",
       "3     17  \n",
       "4     18  "
      ]
     },
     "execution_count": 2,
     "metadata": {},
     "output_type": "execute_result"
    }
   ],
   "source": [
    "import pandas as pd\n",
    "df = pd.read_excel('lotto.xlsx') #엑셀 파일\n",
    "df.head(n = 5)"
   ]
  },
  {
   "cell_type": "code",
   "execution_count": 3,
   "id": "71a1a427",
   "metadata": {},
   "outputs": [
    {
     "name": "stdout",
     "output_type": "stream",
     "text": [
      "<class 'pandas.core.frame.DataFrame'>\n",
      "RangeIndex: 1008 entries, 0 to 1007\n",
      "Data columns (total 18 columns):\n",
      " #   Column  Non-Null Count  Dtype \n",
      "---  ------  --------------  ----- \n",
      " 0   회차      1008 non-null   int64 \n",
      " 1   1등당첨자수  1008 non-null   int64 \n",
      " 2   1등당첨금액  1008 non-null   object\n",
      " 3   2등당첨자수  1008 non-null   int64 \n",
      " 4   2등당첨금액  1008 non-null   object\n",
      " 5   3등당첨자수  1008 non-null   int64 \n",
      " 6   3등당첨금액  1008 non-null   object\n",
      " 7   4등당첨자수  1008 non-null   int64 \n",
      " 8   4등당첨금액  1008 non-null   object\n",
      " 9   5등당첨자수  1008 non-null   int64 \n",
      " 10  5등당첨금액  1008 non-null   object\n",
      " 11  당첨번호1   1008 non-null   int64 \n",
      " 12  당첨번호2   1008 non-null   int64 \n",
      " 13  당첨번호3   1008 non-null   int64 \n",
      " 14  당첨번호4   1008 non-null   int64 \n",
      " 15  당첨번호5   1008 non-null   int64 \n",
      " 16  당첨번호6   1008 non-null   int64 \n",
      " 17  보너스번호   1008 non-null   int64 \n",
      "dtypes: int64(13), object(5)\n",
      "memory usage: 141.9+ KB\n"
     ]
    }
   ],
   "source": [
    "df.info() #당첨금액에 컴마가 있어서 문자열로 인식되고있음"
   ]
  },
  {
   "cell_type": "code",
   "execution_count": 5,
   "id": "e484fb56",
   "metadata": {},
   "outputs": [
    {
     "data": {
      "text/plain": [
       "회차\n",
       "1008    2,267,377,910원\n",
       "1007    2,718,786,375원\n",
       "1006    2,855,602,125원\n",
       "1005    2,061,199,344원\n",
       "1004    2,576,251,913원\n",
       "Name: 1등당첨금액, dtype: object"
      ]
     },
     "execution_count": 5,
     "metadata": {},
     "output_type": "execute_result"
    }
   ],
   "source": [
    "df = pd.read_excel('lotto.xlsx', index_col = 0)\n",
    "a = df['1등당첨금액']\n",
    "a.head(n = 5)"
   ]
  },
  {
   "cell_type": "markdown",
   "id": "d510b396",
   "metadata": {},
   "source": [
    "# 문자열 변경"
   ]
  },
  {
   "cell_type": "code",
   "execution_count": 6,
   "id": "15fc79c1",
   "metadata": {},
   "outputs": [
    {
     "data": {
      "text/plain": [
       "회차\n",
       "1008    2267377910\n",
       "1007    2718786375\n",
       "1006    2855602125\n",
       "1005    2061199344\n",
       "1004    2576251913\n",
       "Name: 1등당첨금액, dtype: int64"
      ]
     },
     "execution_count": 6,
     "metadata": {},
     "output_type": "execute_result"
    }
   ],
   "source": [
    "df = pd.read_excel('lotto.xlsx', index_col = 0)\n",
    "a = df['1등당첨금액']\n",
    "\n",
    "def to_int(a):\n",
    "    a = a.replace(',', '') #쉼표는 모두 공백으로\n",
    "    a = a.replace('원', '') #원은 모두 공백으로\n",
    "    a = int(a)\n",
    "    return a\n",
    "\n",
    "a_int = df['1등당첨금액'].apply(to_int)\n",
    "a_int.head(n = 5)"
   ]
  },
  {
   "cell_type": "markdown",
   "id": "32b8b11c",
   "metadata": {},
   "source": [
    "# 데이터 시각화"
   ]
  },
  {
   "cell_type": "code",
   "execution_count": 16,
   "id": "288ff921",
   "metadata": {},
   "outputs": [
    {
     "data": {
      "image/png": "[encoded data removed]",
      "text/plain": [
       "<Figure size 432x288 with 1 Axes>"
      ]
     },
     "metadata": {
      "needs_background": "light"
     },
     "output_type": "display_data"
    }
   ],
   "source": [
    "import pandas as pd\n",
    "import matplotlib.pyplot as plt\n",
    "\n",
    "df = pd.read_excel('lotto.xlsx')\n",
    "a = df['1등당첨금액']\n",
    "\n",
    "def to_int(a):\n",
    "    a = a.replace(',', '')\n",
    "    a = a.replace('원', '')\n",
    "    a = int(a)\n",
    "    return a\n",
    "\n",
    "a_int = df['1등당첨금액'].apply(to_int)\n",
    "df['1등당첨금액'] = a_int\n",
    "\n",
    "plt.rc('font', family = 'Malgun Gothic')\n",
    "\n",
    "plt.title('로또복권 1등 당첨금액') #제목\n",
    "plt.xlabel('회차') #x축 레이블\n",
    "plt.ylabel('당첨금액(단위:억원)') #y축 레이블\n",
    "\n",
    "x = df['회차'].iloc[:20].values #10까지\n",
    "y = df['1등당첨금액'].iloc[:20].values / 100000000\n",
    "color_list = ['red', 'gray'] * 10\n",
    "\n",
    "plt.bar(x, y, width = 0.5, color = color_list, edgecolor = 'lightgray', linewidth = 3)\n",
    "plt.show()"
   ]
  },
  {
   "cell_type": "code",
   "execution_count": 15,
   "id": "2a68500a",
   "metadata": {},
   "outputs": [
    {
     "data": {
      "text/plain": [
       "['red', 'gray', 'red', 'gray', 'red', 'gray', 'red', 'gray', 'red', 'gray']"
      ]
     },
     "execution_count": 15,
     "metadata": {},
     "output_type": "execute_result"
    }
   ],
   "source": [
    "color_list = ['red', 'gray'] * 5\n",
    "color_list"
   ]
  },
  {
   "cell_type": "code",
   "execution_count": null,
   "id": "e90aa86c",
   "metadata": {},
   "outputs": [],
   "source": []
  }
 ],
 "metadata": {
  "kernelspec": {
   "display_name": "Python 3 (ipykernel)",
   "language": "python",
   "name": "python3"
  },
  "language_info": {
   "codemirror_mode": {
    "name": "ipython",
    "version": 3
   },
   "file_extension": ".py",
   "mimetype": "text/x-python",
   "name": "python",
   "nbconvert_exporter": "python",
   "pygments_lexer": "ipython3",
   "version": "3.9.7"
  }
 },
 "nbformat": 4,
 "nbformat_minor": 5
}

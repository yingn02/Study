{
 "cells": [
  {
   "cell_type": "markdown",
   "id": "2c1db0fc",
   "metadata": {},
   "source": [
    "## JSON"
   ]
  },
  {
   "cell_type": "code",
   "execution_count": 1,
   "id": "f90dba09",
   "metadata": {},
   "outputs": [
    {
     "name": "stdout",
     "output_type": "stream",
     "text": [
      "{\"name\":\"홍길동\", \"age\":\"20\", \"city\":\"서울\"}\n"
     ]
    }
   ],
   "source": [
    "import json\n",
    "\n",
    "x = '{\"name\":\"홍길동\", \"age\":\"20\", \"city\":\"서울\"}'\n",
    "\n",
    "print(x)"
   ]
  },
  {
   "cell_type": "code",
   "execution_count": 2,
   "id": "498dd8f3",
   "metadata": {},
   "outputs": [
    {
     "ename": "TypeError",
     "evalue": "string indices must be integers",
     "output_type": "error",
     "traceback": [
      "\u001b[1;31m---------------------------------------------------------------------------\u001b[0m",
      "\u001b[1;31mTypeError\u001b[0m                                 Traceback (most recent call last)",
      "\u001b[1;32m~\\AppData\\Local\\Temp/ipykernel_10520/4180800378.py\u001b[0m in \u001b[0;36m<module>\u001b[1;34m\u001b[0m\n\u001b[1;32m----> 1\u001b[1;33m \u001b[0mprint\u001b[0m\u001b[1;33m(\u001b[0m\u001b[0mx\u001b[0m\u001b[1;33m[\u001b[0m\u001b[1;34m'name'\u001b[0m\u001b[1;33m]\u001b[0m\u001b[1;33m)\u001b[0m\u001b[1;33m\u001b[0m\u001b[1;33m\u001b[0m\u001b[0m\n\u001b[0m",
      "\u001b[1;31mTypeError\u001b[0m: string indices must be integers"
     ]
    }
   ],
   "source": [
    "print(x['name']) #json 자료형의 형태, key값 X"
   ]
  },
  {
   "cell_type": "code",
   "execution_count": 2,
   "id": "5bdde5e5",
   "metadata": {},
   "outputs": [
    {
     "name": "stdout",
     "output_type": "stream",
     "text": [
      "{\"name\":\"홍길동\", \"age\":\"20\"}\n"
     ]
    }
   ],
   "source": [
    "x = '{\"name\":\"홍길동\", \"age\":\"20\"}'\n",
    "y = json.loads(x) # 구문 분석 (파싱 parsing), 파이썬에서 사용가능한 딕셔너리로 바꾸어줌\n",
    "\n",
    "print(x)"
   ]
  },
  {
   "cell_type": "code",
   "execution_count": 5,
   "id": "c5b874d3",
   "metadata": {},
   "outputs": [
    {
     "name": "stdout",
     "output_type": "stream",
     "text": [
      "홍길동\n"
     ]
    }
   ],
   "source": [
    "print(y['name']) # key 값 O"
   ]
  },
  {
   "cell_type": "markdown",
   "id": "36387f60",
   "metadata": {},
   "source": [
    "## 정규식 표현"
   ]
  },
  {
   "cell_type": "code",
   "execution_count": 6,
   "id": "e94a3dd9",
   "metadata": {},
   "outputs": [
    {
     "name": "stdout",
     "output_type": "stream",
     "text": [
      "<re.Match object; span=(0, 6), match='python'>\n"
     ]
    }
   ],
   "source": [
    "import re\n",
    "\n",
    "p = re.compile('[a-z]+') #찾고자 하는 것 넣기 (a부터 z 찾기) + : 1번 이상 반복하게 함\n",
    "m = p.match('python')\n",
    "print(m)"
   ]
  },
  {
   "cell_type": "code",
   "execution_count": 4,
   "id": "19a4070a",
   "metadata": {},
   "outputs": [
    {
     "name": "stdout",
     "output_type": "stream",
     "text": [
      "None\n"
     ]
    }
   ],
   "source": [
    "import re\n",
    "\n",
    "p = re.compile('[a-z]+')\n",
    "m = p.match(' 7 python') # 이번엔 숫자를 넣어보았다\n",
    "print(m)"
   ]
  },
  {
   "cell_type": "code",
   "execution_count": 6,
   "id": "1085e9c9",
   "metadata": {},
   "outputs": [
    {
     "name": "stdout",
     "output_type": "stream",
     "text": [
      "<re.Match object; span=(0, 1), match='7'>\n"
     ]
    }
   ],
   "source": [
    "import re\n",
    "\n",
    "p = re.compile('[0-9a-z]+') # 숫자 포함\n",
    "m = p.match('7 python')\n",
    "print(m)"
   ]
  },
  {
   "cell_type": "code",
   "execution_count": 7,
   "id": "bb332907",
   "metadata": {},
   "outputs": [
    {
     "name": "stdout",
     "output_type": "stream",
     "text": [
      "['7', 'python']\n"
     ]
    }
   ],
   "source": [
    "import re\n",
    "\n",
    "p = re.compile('[0-9a-z]+')\n",
    "m = p.findall('7 python') # 문자열 전체를 검색해서 전체 매치된 형태를 리스트 형태로 리턴\n",
    "print(m)"
   ]
  },
  {
   "cell_type": "code",
   "execution_count": 8,
   "id": "b7f3c540",
   "metadata": {},
   "outputs": [
    {
     "name": "stdout",
     "output_type": "stream",
     "text": [
      "<re.Match object; span=(0, 1), match='7'>\n"
     ]
    }
   ],
   "source": [
    "import re\n",
    "\n",
    "p = re.compile('[0-9a-z]+')\n",
    "m = p.search('7 python') # 문자열 전체를 검색해서 정규싣과 매치되는 지를 보여줌\n",
    "print(m)"
   ]
  },
  {
   "cell_type": "code",
   "execution_count": 9,
   "id": "627540a0",
   "metadata": {},
   "outputs": [
    {
     "name": "stdout",
     "output_type": "stream",
     "text": [
      "\n",
      "***-****-**** Lee\n",
      "***-****-**** Kim\n",
      "***-****-**** Park\n",
      "\n"
     ]
    }
   ],
   "source": [
    "# sub() 정규 표현식을 사용하여 문자열을 치환\n",
    "import re\n",
    "\n",
    "p = re.compile('[0-9]{3}-[0-9]{4}-[0-9]{4}') #패턴\n",
    "text = \"\"\"\n",
    "010-1234-5678 Lee\n",
    "010-2222-3333 Kim\n",
    "010-3333-3333 Park\n",
    "\"\"\"\n",
    "\n",
    "text_mod = re.sub(p, \"***-****-****\", text) #패턴, 변경하고싶은 형태의 문자, 변경하고싶은 문자\n",
    "print(text_mod)"
   ]
  },
  {
   "cell_type": "code",
   "execution_count": null,
   "id": "82c92b60",
   "metadata": {},
   "outputs": [],
   "source": []
  }
 ],
 "metadata": {
  "kernelspec": {
   "display_name": "Python 3 (ipykernel)",
   "language": "python",
   "name": "python3"
  },
  "language_info": {
   "codemirror_mode": {
    "name": "ipython",
    "version": 3
   },
   "file_extension": ".py",
   "mimetype": "text/x-python",
   "name": "python",
   "nbconvert_exporter": "python",
   "pygments_lexer": "ipython3",
   "version": "3.9.7"
  }
 },
 "nbformat": 4,
 "nbformat_minor": 5
}

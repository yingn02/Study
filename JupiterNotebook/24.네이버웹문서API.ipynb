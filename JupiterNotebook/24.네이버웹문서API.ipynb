{
 "cells": [
  {
   "cell_type": "markdown",
   "id": "e8cdb306",
   "metadata": {},
   "source": [
    "## 네이버 웹검색 API"
   ]
  },
  {
   "cell_type": "code",
   "execution_count": null,
   "id": "4f66c521",
   "metadata": {},
   "outputs": [],
   "source": [
    "# 네이버 검색 API예제는 블로그를 비롯 전문자료까지 호출방법이 동일하므로 blog검색만 대표로 예제를 올렸습니다.\n",
    "# 네이버 검색 Open API 예제 - 블로그 검색\n",
    "import os\n",
    "import sys\n",
    "import urllib.request\n",
    "import pandas as pd\n",
    "import json #json으로 들어와서\n",
    "import re #정규화하려고\n",
    "\n",
    "client_id = \"7MJsiwZO5aIph9spMJg6\" #내 것\n",
    "client_secret = \"qaEkrVmVIH\" # 내 것\n",
    "\n",
    "query = urllib.parse.quote(input(\"검색 질의어=>\")) # 아래에 +query 에 쓰임\n",
    "\n",
    "# 변수\n",
    "idx = 0\n",
    "display = 100\n",
    "start = 1\n",
    "end = 100\n",
    "\n",
    "web_df = pd.DataFrame(columns = (\"Title\",\"Link\", \"Description\")) # 컬럼 수가 3개인 데이터 프레임 \n",
    "\n",
    "for start_index in range (start, end, display): # 부터, 까지, 씩 증가하면서\n",
    "    url = \"https://openapi.naver.com/v1/search/webkr?query=\" + query \\\n",
    "            + \"&display=\" + str(display) \\\n",
    "            + \"&start\" + str(start_index) # \\ 는 엔터쳐도 코드가 잘 적용되도록 함\n",
    "\n",
    "    request = urllib.request.Request(url)\n",
    "\n",
    "    request.add_header(\"X-Naver-Client-Id\",client_id)\n",
    "    request.add_header(\"X-Naver-Client-Secret\",client_secret)\n",
    "\n",
    "    response = urllib.request.urlopen(request)\n",
    "\n",
    "    rescode = response.getcode() #통신이 잘 되었는가를 확인해보자\n",
    "    if(rescode==200): # 성공적\n",
    "        response_body = response.read()\n",
    "        response_dict = json.loads(response_body, decode('utf-8'))\n",
    "\n",
    "        items = response_dict['items'] # items 키에 해당하는 값 가져오기\n",
    "\n",
    "        for item_index in range(0, len(items)):\n",
    "            remove_tag = re.compile('<.*?>') # 패턴 만들었다. < >안에있는거 찾는다\n",
    "\n",
    "            title = re.sub(remove_tag, '', items[item_index]['title']) #정규식에 있는 것들 공백처리해주고 뒤에있는걸로 대체\n",
    "            link = items[item_index]['title']\n",
    "            description = re.sub(remove_tag, '', items[item_index]['title'])\n",
    "\n",
    "            wbe_df.lioc[idx] = [title, link. description] #위에서 만든 3개\n",
    "            idx += 1\n",
    "\n",
    "        print(response_body.decode('utf-8'))\n",
    "    else:\n",
    "        print(\"Error Code:\" + rescode)\n",
    "    \n",
    "web_df # 출력"
   ]
  },
  {
   "cell_type": "code",
   "execution_count": null,
   "id": "3e23f927",
   "metadata": {},
   "outputs": [],
   "source": []
  }
 ],
 "metadata": {
  "kernelspec": {
   "display_name": "Python 3 (ipykernel)",
   "language": "python",
   "name": "python3"
  },
  "language_info": {
   "codemirror_mode": {
    "name": "ipython",
    "version": 3
   },
   "file_extension": ".py",
   "mimetype": "text/x-python",
   "name": "python",
   "nbconvert_exporter": "python",
   "pygments_lexer": "ipython3",
   "version": "3.9.7"
  }
 },
 "nbformat": 4,
 "nbformat_minor": 5
}

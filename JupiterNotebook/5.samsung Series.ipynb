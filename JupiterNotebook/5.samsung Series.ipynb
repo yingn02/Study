{
 "cells": [
  {
   "cell_type": "markdown",
   "id": "4b2a5361",
   "metadata": {},
   "source": [
    "## Series"
   ]
  },
  {
   "cell_type": "code",
   "execution_count": 2,
   "id": "edf103f5",
   "metadata": {},
   "outputs": [
    {
     "name": "stdout",
     "output_type": "stream",
     "text": [
      "0    71200\n",
      "1    69500\n",
      "2    70100\n",
      "3    71500\n",
      "4    72900\n",
      "5    71700\n",
      "dtype: int64\n",
      "<class 'pandas.core.series.Series'>\n"
     ]
    }
   ],
   "source": [
    "import pandas as pd\n",
    "s = pd.Series([71200, 69500, 70100, 71500, 72900, 71700])\n",
    "print(s)\n",
    "print(type(s)) #데이터타입을 볼 수 있다."
   ]
  },
  {
   "cell_type": "markdown",
   "id": "4afe2121",
   "metadata": {},
   "source": [
    "## Index 지정하기"
   ]
  },
  {
   "cell_type": "code",
   "execution_count": 9,
   "id": "56de95ba",
   "metadata": {},
   "outputs": [
    {
     "name": "stdout",
     "output_type": "stream",
     "text": [
      "2022-03-10    71200\n",
      "2022-03-08    69500\n",
      "2022-03-07    70100\n",
      "2022-03-04    71500\n",
      "2022-03-03    72900\n",
      "2022-03-02    71700\n",
      "dtype: int64\n"
     ]
    }
   ],
   "source": [
    "s = pd.Series([71200, 69500, 70100, 71500, 72900, 71700],\n",
    "               index = ['2022-03-10', '2022-03-08', '2022-03-07', '2022-03-04', '2022-03-03', '2022-03-02'])\n",
    "print(s)"
   ]
  },
  {
   "cell_type": "markdown",
   "id": "0bba2341",
   "metadata": {},
   "source": [
    "## 인덱스와 슬라이싱"
   ]
  },
  {
   "cell_type": "code",
   "execution_count": 10,
   "id": "8dfe677a",
   "metadata": {},
   "outputs": [
    {
     "data": {
      "text/plain": [
       "2022-03-10    71200\n",
       "2022-03-08    69500\n",
       "2022-03-07    70100\n",
       "dtype: int64"
      ]
     },
     "execution_count": 10,
     "metadata": {},
     "output_type": "execute_result"
    }
   ],
   "source": [
    "s[0:3]"
   ]
  },
  {
   "cell_type": "code",
   "execution_count": 11,
   "id": "70332e62",
   "metadata": {},
   "outputs": [
    {
     "data": {
      "text/plain": [
       "71700"
      ]
     },
     "execution_count": 11,
     "metadata": {},
     "output_type": "execute_result"
    }
   ],
   "source": [
    "s[-1]"
   ]
  },
  {
   "cell_type": "code",
   "execution_count": 13,
   "id": "cc699137",
   "metadata": {},
   "outputs": [
    {
     "data": {
      "text/plain": [
       "71200"
      ]
     },
     "execution_count": 13,
     "metadata": {},
     "output_type": "execute_result"
    }
   ],
   "source": [
    "s['2022-03-10']"
   ]
  },
  {
   "cell_type": "code",
   "execution_count": 15,
   "id": "252c759c",
   "metadata": {},
   "outputs": [
    {
     "name": "stdout",
     "output_type": "stream",
     "text": [
      "2022-03-10    7120.0\n",
      "2022-03-08    6950.0\n",
      "2022-03-07    7010.0\n",
      "2022-03-04    7150.0\n",
      "2022-03-03    7290.0\n",
      "2022-03-02    7170.0\n",
      "dtype: float64\n"
     ]
    }
   ],
   "source": [
    "print(s/10) #모든 데이터가 10으로 나눠지게 할 수 있다"
   ]
  },
  {
   "cell_type": "code",
   "execution_count": null,
   "id": "e16339f6",
   "metadata": {},
   "outputs": [],
   "source": []
  }
 ],
 "metadata": {
  "kernelspec": {
   "display_name": "Python 3 (ipykernel)",
   "language": "python",
   "name": "python3"
  },
  "language_info": {
   "codemirror_mode": {
    "name": "ipython",
    "version": 3
   },
   "file_extension": ".py",
   "mimetype": "text/x-python",
   "name": "python",
   "nbconvert_exporter": "python",
   "pygments_lexer": "ipython3",
   "version": "3.9.7"
  }
 },
 "nbformat": 4,
 "nbformat_minor": 5
}

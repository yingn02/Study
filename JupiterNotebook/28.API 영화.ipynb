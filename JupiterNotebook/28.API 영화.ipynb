{
 "cells": [
  {
   "cell_type": "markdown",
   "id": "383fcab3",
   "metadata": {},
   "source": [
    "## 네이버 영화에서 정보 가져오기"
   ]
  },
  {
   "cell_type": "code",
   "execution_count": 1,
   "id": "df207835",
   "metadata": {},
   "outputs": [
    {
     "name": "stdout",
     "output_type": "stream",
     "text": [
      "검색질의: 알라딘\n",
      "{'lastBuildDate': 'Sun, 08 May 2022 00:13:47 +0900', 'total': 24, 'start': 1, 'display': 24, 'items': [{'title': '<b>알라딘</b>', 'link': 'https://movie.naver.com/movie/bi/mi/basic.nhn?code=163788', 'image': 'https://ssl.pstatic.net/imgmovie/mdi/mit110/1637/163788_P18_105943.jpg', 'subtitle': 'Aladdin', 'pubDate': '2019', 'director': '가이 리치|', 'actor': '메나 마수드|윌 스미스|나오미 스콧|', 'userRating': '9.38'}, {'title': '<b>알라딘</b>-램프의 신', 'link': 'https://movie.naver.com/movie/bi/mi/basic.nhn?code=189292', 'image': 'https://ssl.pstatic.net/imgmovie/mdi/mit110/1892/189292_P01_104707.jpg', 'subtitle': 'Adventures of Aladdin', 'pubDate': '2019', 'director': '글렌 캠벨|', 'actor': '', 'userRating': '0.00'}, {'title': '<b>알라딘</b> 2', 'link': 'https://movie.naver.com/movie/bi/mi/basic.nhn?code=185915', 'image': 'https://ssl.pstatic.net/imgmovie/mdi/mit110/1859/185915_P01_111011.jpg', 'subtitle': \"Alad'2\", 'pubDate': '2018', 'director': '리오넬 스테케티|', 'actor': '케브 아담스|자멜 드부즈|바네사 가이드|에릭 쥬도르|람지 베디아|', 'userRating': '4.06'}, {'title': '애덤 그린스 <b>알라딘</b>', 'link': 'https://movie.naver.com/movie/bi/mi/basic.nhn?code=149764', 'image': '', 'subtitle': \"Adam Green's Aladdin\", 'pubDate': '2016', 'director': '애덤 그린|', 'actor': '애덤 그린|', 'userRating': '10.00'}, {'title': '<b>알라딘</b>: 바그다드 스캔들', 'link': 'https://movie.naver.com/movie/bi/mi/basic.nhn?code=144079', 'image': 'https://ssl.pstatic.net/imgmovie/mdi/mit110/1440/144079_P01_115329.jpg', 'subtitle': \"Les Nouvelles aventures d'Aladin\", 'pubDate': '2014', 'director': '아서 벤자쿠엔|', 'actor': '케브 아담스|장 폴 루브|바네사 가이드|오드리 라미|에릭 쥬도르|미셀 블랑|윌리엄 레브길|', 'userRating': '10.00'}, {'title': '<b>알라딘</b>과 죽음의 램프', 'link': 'https://movie.naver.com/movie/bi/mi/basic.nhn?code=103746', 'image': 'https://ssl.pstatic.net/imgmovie/mdi/mit110/1037/103746_P01_164446.jpg', 'subtitle': 'Aladdin and the Death Lamp', 'pubDate': '2012', 'director': '마리오 아조파디|', 'actor': '다렌 샤라비|노암 젠킨스|캔디즈 맥크루|', 'userRating': '4.60'}, {'title': '<b>알라딘</b>', 'link': 'https://movie.naver.com/movie/bi/mi/basic.nhn?code=74059', 'image': 'https://ssl.pstatic.net/imgmovie/mdi/mit110/0740/74059_P00_135204.jpg', 'subtitle': 'Aladin', 'pubDate': '2009', 'director': '수조이 고쉬|', 'actor': '아미타브 밧찬|리테쉬 데쉬무크|', 'userRating': '7.49'}, {'title': '<b>알라딘</b>', 'link': 'https://movie.naver.com/movie/bi/mi/basic.nhn?code=34891', 'image': '', 'subtitle': 'Aladin', 'pubDate': '2002', 'director': '안지영|', 'actor': '', 'userRating': '10.00'}, {'title': '<b>알라딘</b>', 'link': 'https://movie.naver.com/movie/bi/mi/basic.nhn?code=31540', 'image': 'https://ssl.pstatic.net/imgmovie/mdi/mit110/0315/C1540-01.jpg', 'subtitle': \"A Kid In Aladdin's Palace\", 'pubDate': '1997', 'director': '로버트 L. 레비|', 'actor': '토마스 이안 니콜라스|로나 미트라|', 'userRating': '3.57'}, {'title': '<b>알라딘</b> 3 : <b>알라딘</b>과 도적의 왕', 'link': 'https://movie.naver.com/movie/bi/mi/basic.nhn?code=25359', 'image': 'https://ssl.pstatic.net/imgmovie/mdi/mit110/0253/25359_P01_103102.jpg', 'subtitle': 'Aladdin And The King Of Thieves', 'pubDate': '1996', 'director': '태드 스톤스|', 'actor': '발 베틴|짐 커밍스|길버트 갓프리드|린다 라킨|제리 오바치|존 라이스 데이비스|스콧 와인거|프랭크 웰커|로빈 윌리엄스|제프 베넷|코리 버튼|제스 하넬|클레이드 쿠사추|롭 폴슨|CCH 파운더|', 'userRating': '8.21'}, {'title': '<b>알라딘</b> 2 - 돌아온 자파', 'link': 'https://movie.naver.com/movie/bi/mi/basic.nhn?code=51527', 'image': 'https://ssl.pstatic.net/imgmovie/mdi/mit110/0515/E1527-01.jpg', 'subtitle': 'The Return Of Jafar', 'pubDate': '1994', 'director': '토비 쉘턴|태드 스톤스|앨런 자슬로브|', 'actor': '스콧 와인거|린다 라킨|브래드 케인|리즈 캘러웨이|', 'userRating': '7.42'}, {'title': '<b>알라딘</b>', 'link': 'https://movie.naver.com/movie/bi/mi/basic.nhn?code=120725', 'image': '', 'subtitle': 'Aladdin', 'pubDate': '1994', 'director': '제이미 밋첼|태드 스톤스|토비 쉘턴|하시모토 사부로|밥 해스콕|롭 라듀카|앨런 자슬로브|', 'actor': '스콧 와인거|린다 라킨|댄 카스텔라네타|', 'userRating': '0.00'}, {'title': '<b>알라딘</b>', 'link': 'https://movie.naver.com/movie/bi/mi/basic.nhn?code=13008', 'image': 'https://ssl.pstatic.net/imgmovie/mdi/mit110/0130/13008_P25_151011.jpg', 'subtitle': 'Aladdin', 'pubDate': '1992', 'director': '존 머스커|론 클레멘츠|', 'actor': '스콧 와인거|로빈 윌리엄스|린다 라킨|', 'userRating': '9.35'}, {'title': '<b>알라딘</b>', 'link': 'https://movie.naver.com/movie/bi/mi/basic.nhn?code=72708', 'image': 'https://ssl.pstatic.net/imgmovie/mdi/mit110/0727/72708_P01_105901.jpg', 'subtitle': 'Aladdin', 'pubDate': '1992', 'director': '데이빗 드웨이티스|', 'actor': '닉키 스토터|데릭 제이코비|', 'userRating': '1.00'}, {'title': '돌아온 <b>알라딘</b>', 'link': 'https://movie.naver.com/movie/bi/mi/basic.nhn?code=13722', 'image': 'https://ssl.pstatic.net/imgmovie/mdi/mit110/0137/13722_P01_102956.jpg', 'subtitle': 'Aladdin', 'pubDate': '1986', 'director': '브루노 코부치|', 'actor': '버드 스펜서|루카 베난티니|', 'userRating': '0.00'}, {'title': '<b>알라딘</b>과 마술 램프', 'link': 'https://movie.naver.com/movie/bi/mi/basic.nhn?code=13044', 'image': 'https://ssl.pstatic.net/imgmovie/mdi/mit110/0130/13044_P01_102526.jpg', 'subtitle': 'Aladdin And His Wonderful Lamp', 'pubDate': '1985', 'director': '팀 버튼|', 'actor': '발레리 베르티넬리|로버트 캐러딘|제임스 얼 존스|레너드 니모이|', 'userRating': '7.00'}, {'title': '<b>알라딘</b>과 요술램프', 'link': 'https://movie.naver.com/movie/bi/mi/basic.nhn?code=52357', 'image': 'https://ssl.pstatic.net/imgmovie/mdi/mit110/0523/E2357-01.jpg', 'subtitle': 'Aladdin And The Wonderful Lamp', 'pubDate': '1982', 'director': '카사이 요시카츠|', 'actor': '카미야 카즈오|스즈카 케이코|', 'userRating': '8.44'}, {'title': '검은 마술사의 선물', 'link': 'https://movie.naver.com/movie/bi/mi/basic.nhn?code=18553', 'image': '', 'subtitle': \"Black Wizard's Gift\", 'pubDate': '1978', 'director': '보리스 리트사레브|', 'actor': '', 'userRating': '0.00'}, {'title': '<b>알라딘</b>과 마술 램프', 'link': 'https://movie.naver.com/movie/bi/mi/basic.nhn?code=83218', 'image': 'https://ssl.pstatic.net/imgmovie/mdi/mit110/0832/83218_P01_110814.jpg', 'subtitle': 'Aladdin And His Magic Lamp', 'pubDate': '1970', 'director': '진 이미지|', 'actor': '', 'userRating': '0.00'}, {'title': '<b>알라딘</b>의 요술 램프', 'link': 'https://movie.naver.com/movie/bi/mi/basic.nhn?code=72713', 'image': 'https://ssl.pstatic.net/imgmovie/mdi/mit110/0727/72713_P05_093543.jpg', 'subtitle': \"Aladdin's Magic Lamp\", 'pubDate': '1966', 'director': '보리스 리트사레브|', 'actor': '보리스 비스트로브|도도 초고바드제|', 'userRating': '0.00'}, {'title': '<b>알라딘</b>의 마술 램프', 'link': 'https://movie.naver.com/movie/bi/mi/basic.nhn?code=14412', 'image': 'https://ssl.pstatic.net/imgmovie/mdi/mit110/0144/14412_P01_094421.jpg', 'subtitle': 'The Wonders Of Aladdin', 'pubDate': '1961', 'director': '마리오 바바|헨리 레빈|', 'actor': '도널드 오코너|노엘 아담|', 'userRating': '0.00'}, {'title': '<b>알라딘</b>', 'link': 'https://movie.naver.com/movie/bi/mi/basic.nhn?code=189616', 'image': 'https://ssl.pstatic.net/imgmovie/mdi/mit110/1896/189616_P01_174129.jpg', 'subtitle': 'Aladin', 'pubDate': '1953', 'director': '싱 흐왓 탄|', 'actor': '', 'userRating': '0.00'}, {'title': '<b>알라딘</b>과 마술 램프', 'link': 'https://movie.naver.com/movie/bi/mi/basic.nhn?code=19221', 'image': 'https://ssl.pstatic.net/imgmovie/mdi/mit110/0192/19221_P00_102432.jpg', 'subtitle': 'Aladdin And His Wonderful Lamp', 'pubDate': '1939', 'director': '데이브 플레이셔|', 'actor': '마지 하인즈|잭 머서|매 퀘스텔|', 'userRating': '0.00'}, {'title': '굿바이, <b>알라딘</b>', 'link': 'https://movie.naver.com/movie/bi/mi/basic.nhn?code=65129', 'image': '', 'subtitle': '', 'pubDate': '', 'director': '이우일|', 'actor': '', 'userRating': '10.00'}]}\n"
     ]
    },
    {
     "ename": "ValueError",
     "evalue": "cannot set a row with mismatched columns",
     "output_type": "error",
     "traceback": [
      "\u001b[1;31m---------------------------------------------------------------------------\u001b[0m",
      "\u001b[1;31mValueError\u001b[0m                                Traceback (most recent call last)",
      "\u001b[1;32m~\\AppData\\Local\\Temp/ipykernel_11584/1336222044.py\u001b[0m in \u001b[0;36m<module>\u001b[1;34m\u001b[0m\n\u001b[0;32m     50\u001b[0m             \u001b[0muserRating\u001b[0m \u001b[1;33m=\u001b[0m \u001b[0mitems\u001b[0m\u001b[1;33m[\u001b[0m\u001b[0mitem_index\u001b[0m\u001b[1;33m]\u001b[0m\u001b[1;33m[\u001b[0m\u001b[1;34m'userRating'\u001b[0m\u001b[1;33m]\u001b[0m\u001b[1;33m\u001b[0m\u001b[1;33m\u001b[0m\u001b[0m\n\u001b[0;32m     51\u001b[0m \u001b[1;33m\u001b[0m\u001b[0m\n\u001b[1;32m---> 52\u001b[1;33m             \u001b[0mmovie_df\u001b[0m\u001b[1;33m.\u001b[0m\u001b[0mloc\u001b[0m\u001b[1;33m[\u001b[0m\u001b[0midx\u001b[0m\u001b[1;33m]\u001b[0m \u001b[1;33m=\u001b[0m \u001b[1;33m[\u001b[0m\u001b[0mtitle\u001b[0m\u001b[1;33m,\u001b[0m \u001b[0mlink\u001b[0m\u001b[1;33m,\u001b[0m \u001b[0mimage\u001b[0m\u001b[1;33m,\u001b[0m \u001b[0msubtitle\u001b[0m\u001b[1;33m,\u001b[0m \u001b[0mpubDate\u001b[0m\u001b[1;33m,\u001b[0m \u001b[0mdirector\u001b[0m\u001b[1;33m,\u001b[0m \u001b[0muserRating\u001b[0m\u001b[1;33m]\u001b[0m\u001b[1;33m\u001b[0m\u001b[1;33m\u001b[0m\u001b[0m\n\u001b[0m\u001b[0;32m     53\u001b[0m             \u001b[0midx\u001b[0m \u001b[1;33m+=\u001b[0m \u001b[1;36m1\u001b[0m\u001b[1;33m\u001b[0m\u001b[1;33m\u001b[0m\u001b[0m\n\u001b[0;32m     54\u001b[0m \u001b[1;33m\u001b[0m\u001b[0m\n",
      "\u001b[1;32mC:\\ProgramData\\Anaconda3\\lib\\site-packages\\pandas\\core\\indexing.py\u001b[0m in \u001b[0;36m__setitem__\u001b[1;34m(self, key, value)\u001b[0m\n\u001b[0;32m    721\u001b[0m \u001b[1;33m\u001b[0m\u001b[0m\n\u001b[0;32m    722\u001b[0m         \u001b[0miloc\u001b[0m \u001b[1;33m=\u001b[0m \u001b[0mself\u001b[0m \u001b[1;32mif\u001b[0m \u001b[0mself\u001b[0m\u001b[1;33m.\u001b[0m\u001b[0mname\u001b[0m \u001b[1;33m==\u001b[0m \u001b[1;34m\"iloc\"\u001b[0m \u001b[1;32melse\u001b[0m \u001b[0mself\u001b[0m\u001b[1;33m.\u001b[0m\u001b[0mobj\u001b[0m\u001b[1;33m.\u001b[0m\u001b[0miloc\u001b[0m\u001b[1;33m\u001b[0m\u001b[1;33m\u001b[0m\u001b[0m\n\u001b[1;32m--> 723\u001b[1;33m         \u001b[0miloc\u001b[0m\u001b[1;33m.\u001b[0m\u001b[0m_setitem_with_indexer\u001b[0m\u001b[1;33m(\u001b[0m\u001b[0mindexer\u001b[0m\u001b[1;33m,\u001b[0m \u001b[0mvalue\u001b[0m\u001b[1;33m,\u001b[0m \u001b[0mself\u001b[0m\u001b[1;33m.\u001b[0m\u001b[0mname\u001b[0m\u001b[1;33m)\u001b[0m\u001b[1;33m\u001b[0m\u001b[1;33m\u001b[0m\u001b[0m\n\u001b[0m\u001b[0;32m    724\u001b[0m \u001b[1;33m\u001b[0m\u001b[0m\n\u001b[0;32m    725\u001b[0m     \u001b[1;32mdef\u001b[0m \u001b[0m_validate_key\u001b[0m\u001b[1;33m(\u001b[0m\u001b[0mself\u001b[0m\u001b[1;33m,\u001b[0m \u001b[0mkey\u001b[0m\u001b[1;33m,\u001b[0m \u001b[0maxis\u001b[0m\u001b[1;33m:\u001b[0m \u001b[0mint\u001b[0m\u001b[1;33m)\u001b[0m\u001b[1;33m:\u001b[0m\u001b[1;33m\u001b[0m\u001b[1;33m\u001b[0m\u001b[0m\n",
      "\u001b[1;32mC:\\ProgramData\\Anaconda3\\lib\\site-packages\\pandas\\core\\indexing.py\u001b[0m in \u001b[0;36m_setitem_with_indexer\u001b[1;34m(self, indexer, value, name)\u001b[0m\n\u001b[0;32m   1722\u001b[0m \u001b[1;33m\u001b[0m\u001b[0m\n\u001b[0;32m   1723\u001b[0m             \u001b[1;32mif\u001b[0m \u001b[0mmissing\u001b[0m\u001b[1;33m:\u001b[0m\u001b[1;33m\u001b[0m\u001b[1;33m\u001b[0m\u001b[0m\n\u001b[1;32m-> 1724\u001b[1;33m                 \u001b[0mself\u001b[0m\u001b[1;33m.\u001b[0m\u001b[0m_setitem_with_indexer_missing\u001b[0m\u001b[1;33m(\u001b[0m\u001b[0mindexer\u001b[0m\u001b[1;33m,\u001b[0m \u001b[0mvalue\u001b[0m\u001b[1;33m)\u001b[0m\u001b[1;33m\u001b[0m\u001b[1;33m\u001b[0m\u001b[0m\n\u001b[0m\u001b[0;32m   1725\u001b[0m                 \u001b[1;32mreturn\u001b[0m\u001b[1;33m\u001b[0m\u001b[1;33m\u001b[0m\u001b[0m\n\u001b[0;32m   1726\u001b[0m \u001b[1;33m\u001b[0m\u001b[0m\n",
      "\u001b[1;32mC:\\ProgramData\\Anaconda3\\lib\\site-packages\\pandas\\core\\indexing.py\u001b[0m in \u001b[0;36m_setitem_with_indexer_missing\u001b[1;34m(self, indexer, value)\u001b[0m\n\u001b[0;32m   2025\u001b[0m                     \u001b[1;31m# must have conforming columns\u001b[0m\u001b[1;33m\u001b[0m\u001b[1;33m\u001b[0m\u001b[0m\n\u001b[0;32m   2026\u001b[0m                     \u001b[1;32mif\u001b[0m \u001b[0mlen\u001b[0m\u001b[1;33m(\u001b[0m\u001b[0mvalue\u001b[0m\u001b[1;33m)\u001b[0m \u001b[1;33m!=\u001b[0m \u001b[0mlen\u001b[0m\u001b[1;33m(\u001b[0m\u001b[0mself\u001b[0m\u001b[1;33m.\u001b[0m\u001b[0mobj\u001b[0m\u001b[1;33m.\u001b[0m\u001b[0mcolumns\u001b[0m\u001b[1;33m)\u001b[0m\u001b[1;33m:\u001b[0m\u001b[1;33m\u001b[0m\u001b[1;33m\u001b[0m\u001b[0m\n\u001b[1;32m-> 2027\u001b[1;33m                         \u001b[1;32mraise\u001b[0m \u001b[0mValueError\u001b[0m\u001b[1;33m(\u001b[0m\u001b[1;34m\"cannot set a row with mismatched columns\"\u001b[0m\u001b[1;33m)\u001b[0m\u001b[1;33m\u001b[0m\u001b[1;33m\u001b[0m\u001b[0m\n\u001b[0m\u001b[0;32m   2028\u001b[0m \u001b[1;33m\u001b[0m\u001b[0m\n\u001b[0;32m   2029\u001b[0m                 \u001b[0mvalue\u001b[0m \u001b[1;33m=\u001b[0m \u001b[0mSeries\u001b[0m\u001b[1;33m(\u001b[0m\u001b[0mvalue\u001b[0m\u001b[1;33m,\u001b[0m \u001b[0mindex\u001b[0m\u001b[1;33m=\u001b[0m\u001b[0mself\u001b[0m\u001b[1;33m.\u001b[0m\u001b[0mobj\u001b[0m\u001b[1;33m.\u001b[0m\u001b[0mcolumns\u001b[0m\u001b[1;33m,\u001b[0m \u001b[0mname\u001b[0m\u001b[1;33m=\u001b[0m\u001b[0mindexer\u001b[0m\u001b[1;33m)\u001b[0m\u001b[1;33m\u001b[0m\u001b[1;33m\u001b[0m\u001b[0m\n",
      "\u001b[1;31mValueError\u001b[0m: cannot set a row with mismatched columns"
     ]
    }
   ],
   "source": [
    "# 네이버\n",
    "import os\n",
    "import sys\n",
    "import urllib.request\n",
    "import pandas as pd\n",
    "import json\n",
    "import re\n",
    "\n",
    "client_id = \"7MJsiwZO5aIph9spMJg6\"\n",
    "client_secret = \"qaEkrVmVIH\"\n",
    "\n",
    "query = urllib.parse.quote(input(\"검색질의: \")) #검색어 입력 받아서 진짜로 검색하는거임\n",
    "idx = 0\n",
    "display = 100 #최대 100건까지 검색결과 보여줌\n",
    "start = 1 #검색 시작 위치 1\n",
    "end = 1000\n",
    "sort = \"sim\"\n",
    "\n",
    "movie_df = pd.DataFrame(columns = ('Title', 'Link', 'Image', 'Subtitle', 'PubDate', 'Directer', 'Actor', 'UserRating'))\n",
    "\n",
    "for start_index in range(start, end, display):\n",
    "    # json 결과, 뉴스 겁색\n",
    "    url = \"https://openapi.naver.com/v1/search/movie?query=\" + query \\\n",
    "    + \"&display=\" + str(display)\\\n",
    "    + \"&start=\" + str(start_index)\\\n",
    "    + \"&sort=\" + sort #sort는 문자열이라 굳이 바꿀 필요 X\n",
    "    \n",
    "    request = urllib.request.Request(url)\n",
    "    request.add_header(\"X-Naver-Client-Id\",client_id)\n",
    "    request.add_header(\"X-Naver-Client-Secret\",client_secret)\n",
    "    response = urllib.request.urlopen(request)\n",
    "    \n",
    "    rescode = response.getcode()\n",
    "    if(rescode==200): #정상적으로 응답받음\n",
    "        response_body = response.read()\n",
    "        response_dic = json.loads(response_body.decode('utf-8')) #json으로 들어온 객체를 딕셔너리로 받아오기\n",
    "        print(response_dic)\n",
    "        items = response_dic['items'] # item 키에 해당하는 값 가져오기\n",
    "        \n",
    "        for item_index in range(0,len(items)):\n",
    "            # 태그를 제거하는 변수, <.*?> 는 태그안에 있는 모든 것들을 제거할 수 있게함\n",
    "            r_tag = re.compile('<.*?>') #태그를 제외하기 위한 패턴 지정하기\n",
    "            \n",
    "            title = re.sub(r_tag, '', items[item_index]['title']) # 정규식과 매치되는 부분을 다른 문자로 변경할 수 있다\n",
    "            link = items[item_index]['link']\n",
    "            image = items[item_index]['image']\n",
    "            subtitle = items[item_index]['subtitle']\n",
    "            pubDate = items[item_index]['pubDate']\n",
    "            director = items[item_index]['director']\n",
    "            userRating = items[item_index]['userRating']\n",
    "            \n",
    "            movie_df.loc[idx] = [title, link, image, subtitle, pubDate, director, userRating]\n",
    "            idx += 1\n",
    "            \n",
    "    else:\n",
    "        print(\"Error Code:\" + rescode)\n",
    "        \n",
    "movie_df\n",
    "movie_df.to_excel('알라딘.xlsx') #엑셀로 저장해보자"
   ]
  }
 ],
 "metadata": {
  "kernelspec": {
   "display_name": "Python 3 (ipykernel)",
   "language": "python",
   "name": "python3"
  },
  "language_info": {
   "codemirror_mode": {
    "name": "ipython",
    "version": 3
   },
   "file_extension": ".py",
   "mimetype": "text/x-python",
   "name": "python",
   "nbconvert_exporter": "python",
   "pygments_lexer": "ipython3",
   "version": "3.9.7"
  }
 },
 "nbformat": 4,
 "nbformat_minor": 5
}

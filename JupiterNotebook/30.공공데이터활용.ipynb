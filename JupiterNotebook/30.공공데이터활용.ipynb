{
 "cells": [
  {
   "cell_type": "code",
   "execution_count": 1,
   "id": "d6739a76",
   "metadata": {},
   "outputs": [
    {
     "name": "stdout",
     "output_type": "stream",
     "text": [
      "b'<OpenAPI_ServiceResponse>\\n\\t<cmmMsgHeader>\\n\\t\\t<errMsg>SERVICE ERROR</errMsg>\\n\\t\\t<returnAuthMsg>SERVICE_KEY_IS_NOT_REGISTERED_ERROR</returnAuthMsg>\\n\\t\\t<returnReasonCode>30</returnReasonCode>\\n\\t</cmmMsgHeader>\\n</OpenAPI_ServiceResponse>'\n"
     ]
    }
   ],
   "source": [
    "# Python3 샘플 코드 #\n",
    "\n",
    "import requests\n",
    "\n",
    "#encoding 안되면 decoding 가져오기\n",
    "serviceKey = 'jSLG7PhndCZp9dBtSCY5UGFS4dLgXrtHWCe4JURn1K7VE7UDXwRv9xyHgez0UaGVP8L9%2Bv22bAKf9Uy%2BPWrFeQ%3D%3D'\n",
    "\n",
    "url = 'http://apis.data.go.kr/B552657/ErmctInsttInfoInqireService/getParmacyListInfoInqire'\n",
    "params ={'serviceKey' : '서비스키', 'Q0' : '서울특별시', 'Q1' : '성북구', 'QT' : '1', 'QN' : '서울약국', 'ORD' : 'NAME', 'pageNo' : '1', 'numOfRows' : '10' }\n",
    "\n",
    "response = requests.get(url, params=params)\n",
    "print(response.content)"
   ]
  },
  {
   "cell_type": "code",
   "execution_count": 2,
   "id": "60804fec",
   "metadata": {},
   "outputs": [
    {
     "name": "stdout",
     "output_type": "stream",
     "text": [
      "url:http://apis.data.go.kr/B552657/ErmctInsttInfoInqireService/getParmacyListInfoInqire?serviceKey=jSLG7PhndCZp9dBtSCY5UGFS4dLgXrtHWCe4JURn1K7VE7UDXwRv9xyHgez0UaGVP8L9%2Bv22bAKf9Uy%2BPWrFeQ%3D%3D&Q0=%EC%84%9C%EC%9A%B8%ED%8A%B9%EB%B3%84%EC%8B%9C&Q1=%EC%84%B1%EB%B6%81%EA%B5%AC&QT=2&QN=%EC%82%BC%EC%84%B1%EC%95%BD%EA%B5%AD&ORD=NAME&pageNo=1&startPage=1&numofRows=10&pageSize=10\n",
      "<?xml version=\"1.0\" encoding=\"UTF-8\" standalone=\"yes\"?><response><header><resultcode>00</resultcode><resultmsg>NORMAL SERVICE.</resultmsg></header><body><items><item><dutyaddr>서울특별시 성북구 동소문로 190, 103호 (돈암동)</dutyaddr><dutymapimg>미아리고개위치삼성아파트정문앞</dutymapimg><dutyname>삼성약국</dutyname><dutytel1>02-929-3069</dutytel1><dutytime1c>2100</dutytime1c><dutytime1s>0900</dutytime1s><dutytime2c>2100</dutytime2c><dutytime2s>0900</dutytime2s><dutytime3c>2100</dutytime3c><dutytime3s>0900</dutytime3s><dutytime4c>2100</dutytime4c><dutytime4s>0900</dutytime4s><dutytime5c>2100</dutytime5c><dutytime5s>0900</dutytime5s><dutytime6c>1600</dutytime6c><dutytime6s>0900</dutytime6s><dutytime7c>1300</dutytime7c><dutytime7s>0900</dutytime7s><dutytime8c>1300</dutytime8c><dutytime8s>0900</dutytime8s><hpid>C1103134</hpid><postcdn1>028</postcdn1><postcdn2>07 </postcdn2><rnum>1</rnum><wgs84lat>37.59889401926434</wgs84lat><wgs84lon>127.0221133586833</wgs84lon></item></items><numofrows>10</numofrows><pageno>1</pageno><totalcount>1</totalcount></body></response>\n",
      "삼성약국\n"
     ]
    }
   ],
   "source": [
    "# [실습 1-3]\n",
    "import urllib.request\n",
    "import bs4\n",
    "\n",
    "endpoint = 'http://apis.data.go.kr/B552657/ErmctInsttInfoInqireService/getParmacyListInfoInqire?'\n",
    "serviceKey = 'jSLG7PhndCZp9dBtSCY5UGFS4dLgXrtHWCe4JURn1K7VE7UDXwRv9xyHgez0UaGVP8L9%2Bv22bAKf9Uy%2BPWrFeQ%3D%3D'\n",
    "\n",
    "Q0 = urllib.parse.quote(\"서울특별시\")    \n",
    "Q1 = urllib.parse.quote(\"성북구\")\n",
    "QT = \"2\"\n",
    "QN = urllib.parse.quote(\"삼성약국\")\n",
    "ORD = \"NAME\"\n",
    "pageNo = \"1\"\n",
    "startPage = \"1\"\n",
    "numofRows = \"10\"\n",
    "pageSize = \"10\"\n",
    "\n",
    "params =\"serviceKey=\" + serviceKey + \\\n",
    "         \"&Q0=\" + Q0 + \\\n",
    "         \"&Q1=\" + Q1 + \\\n",
    "         \"&QT=\" + QT + \\\n",
    "         \"&QN=\" + QN + \\\n",
    "         \"&ORD=\" + ORD + \\\n",
    "         \"&pageNo=\" + pageNo + \\\n",
    "         \"&startPage=\" + startPage + \\\n",
    "         \"&numofRows=\" + numofRows + \\\n",
    "         \"&pageSize=\" + pageSize \n",
    "\n",
    "url = endpoint + params\n",
    "print(\"url:\"+ url)\n",
    "result = requests.get(url)\n",
    "bs_obj = bs4.BeautifulSoup(result.content,\"html.parser\")\n",
    "print(bs_obj)\n",
    "\n",
    "items = bs_obj.findAll(\"item\")\n",
    "\n",
    "for item in items:\n",
    "    tagged_item = item.find(\"dutyname\")\n",
    "    print(tagged_item.text)"
   ]
  },
  {
   "cell_type": "code",
   "execution_count": 3,
   "id": "20cf5235",
   "metadata": {},
   "outputs": [
    {
     "name": "stdout",
     "output_type": "stream",
     "text": [
      "시 입력=>서울특별시\n",
      "구 입력=>성북구\n",
      "==================================================\n",
      "21세기고려약국\n",
      "365약국\n",
      "W스토어참좋은약국\n",
      "가까운약국\n",
      "가까운행복약국\n",
      "가정약국\n",
      "강원약국\n",
      "개미약국\n",
      "건강약국\n",
      "건강한약국\n"
     ]
    }
   ],
   "source": [
    "import urllib.request\n",
    "import bs4\n",
    "\n",
    "endpoint = 'http://apis.data.go.kr/B552657/ErmctInsttInfoInqireService/getParmacyListInfoInqire?'\n",
    "serviceKey = 'jSLG7PhndCZp9dBtSCY5UGFS4dLgXrtHWCe4JURn1K7VE7UDXwRv9xyHgez0UaGVP8L9%2Bv22bAKf9Uy%2BPWrFeQ%3D%3D'\n",
    "\n",
    "Q0 = urllib.parse.quote(input(\"시 입력=>\"))  \n",
    "Q1 = urllib.parse.quote(input(\"구 입력=>\")) \n",
    "\n",
    "ORD = \"NAME\"           # 정렬순서\n",
    "pageNo = \"1\"\n",
    "startPage = \"1\"\n",
    "numofRows = \"10\"      #목록건수\n",
    "pageSize = \"10\"\n",
    "\n",
    "params =\"serviceKey=\" + serviceKey + \\\n",
    "         \"&Q0=\" + Q0 + \\\n",
    "         \"&Q1=\" + Q1 + \\\n",
    "         \"&ORD=\" + ORD + \\\n",
    "         \"&pageNo=\" + pageNo + \\\n",
    "         \"&startPage=\" + startPage + \\\n",
    "         \"&numofRows=\" + numofRows + \\\n",
    "         \"&pageSize=\" + pageSize \n",
    "\n",
    "url = endpoint + params\n",
    "result = requests.get(url)\n",
    "bs_obj = bs4.BeautifulSoup(result.content,\"html.parser\")\n",
    "\n",
    "items = bs_obj.findAll(\"item\")\n",
    "print(\"=\"*50)\n",
    "\n",
    "for item in items:\n",
    "    tagged_item = item.find(\"dutyname\")\n",
    "    print(tagged_item.text)"
   ]
  },
  {
   "cell_type": "code",
   "execution_count": 4,
   "id": "9e227f28",
   "metadata": {},
   "outputs": [
    {
     "name": "stdout",
     "output_type": "stream",
     "text": [
      "시 입력=>서울특별시\n",
      "화요일 4시 이후까지 영업하는 약국수:10\n"
     ]
    }
   ],
   "source": [
    "import urllib.request\n",
    "import bs4\n",
    "\n",
    "endpoint = 'http://apis.data.go.kr/B552657/ErmctInsttInfoInqireService/getParmacyListInfoInqire?'\n",
    "serviceKey = 'jSLG7PhndCZp9dBtSCY5UGFS4dLgXrtHWCe4JURn1K7VE7UDXwRv9xyHgez0UaGVP8L9%2Bv22bAKf9Uy%2BPWrFeQ%3D%3D'\n",
    "\n",
    "Q0 = urllib.parse.quote(input(\"시 입력=>\"))   \n",
    "QT = \"2\" #요일\n",
    "ORD = \"NAME\"           # 정렬순서\n",
    "pageNo = \"1\"\n",
    "startPage = \"1\"\n",
    "numofRows = \"5003\"      #목록건수\n",
    "pageSize = \"10\"\n",
    "\n",
    "params =\"serviceKey=\" + serviceKey + \\\n",
    "         \"&Q0=\" + Q0 + \\\n",
    "         \"&ORD=\" + QT + \\\n",
    "         \"&pageNo=\" + pageNo + \\\n",
    "         \"&startPage=\" + startPage + \\\n",
    "         \"&numofRows=\" + numofRows + \\\n",
    "         \"&pageSize=\" + pageSize \n",
    "\n",
    "url = endpoint + params\n",
    "result = requests.get(url)\n",
    "bs_obj = bs4.BeautifulSoup(result.content,\"html.parser\")\n",
    "items = bs_obj.findAll(\"item\")\n",
    "\n",
    "count = 0   # 초깃값 0 \n",
    "\n",
    "for item in items:    \n",
    "    tagged_item = item.find(\"dutytime1c\")\n",
    "       \n",
    "    if (tagged_item != None):\n",
    "        close_time = int(tagged_item.text)\n",
    "        if(close_time > 1600): #시간          \n",
    "           count += 1\n",
    "            \n",
    "print(\"화요일 4시 이후까지 영업하는 약국수:\" + str(count))\n",
    "   "
   ]
  },
  {
   "cell_type": "code",
   "execution_count": null,
   "id": "8f022270",
   "metadata": {},
   "outputs": [],
   "source": []
  }
 ],
 "metadata": {
  "kernelspec": {
   "display_name": "Python 3 (ipykernel)",
   "language": "python",
   "name": "python3"
  },
  "language_info": {
   "codemirror_mode": {
    "name": "ipython",
    "version": 3
   },
   "file_extension": ".py",
   "mimetype": "text/x-python",
   "name": "python",
   "nbconvert_exporter": "python",
   "pygments_lexer": "ipython3",
   "version": "3.9.7"
  }
 },
 "nbformat": 4,
 "nbformat_minor": 5
}

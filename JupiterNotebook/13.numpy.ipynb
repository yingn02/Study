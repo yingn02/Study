{
 "cells": [
  {
   "cell_type": "markdown",
   "id": "25faf784",
   "metadata": {},
   "source": [
    "## numpy 배열과 시각화\n",
    "### 1. numpy 배열\n",
    "### numpy 배열 생성하기 => 1차원 배열"
   ]
  },
  {
   "cell_type": "code",
   "execution_count": 1,
   "id": "de26cb25",
   "metadata": {},
   "outputs": [
    {
     "name": "stdout",
     "output_type": "stream",
     "text": [
      "[1 2 3 4 5]\n"
     ]
    }
   ],
   "source": [
    "import numpy as np  #numpy 패키지 불러오기\n",
    "\n",
    "a1 = np.array([1,2,3,4,5])\n",
    "print(a1)"
   ]
  },
  {
   "cell_type": "code",
   "execution_count": 2,
   "id": "f0fcfcab",
   "metadata": {},
   "outputs": [
    {
     "name": "stdout",
     "output_type": "stream",
     "text": [
      "[1. 2. 3. 4. 5.]\n"
     ]
    }
   ],
   "source": [
    "a2 = np.array([1.0,2.0,3.0,4.0,5.0])\n",
    "print(a2)"
   ]
  },
  {
   "cell_type": "code",
   "execution_count": 3,
   "id": "47a07bbd",
   "metadata": {},
   "outputs": [
    {
     "name": "stdout",
     "output_type": "stream",
     "text": [
      "['1' '2' '3' '4' '5']\n"
     ]
    }
   ],
   "source": [
    "a3 = np.array(['1','2','3','4','5'])\n",
    "print(a3)"
   ]
  },
  {
   "cell_type": "code",
   "execution_count": 4,
   "id": "aa891e15",
   "metadata": {},
   "outputs": [
    {
     "data": {
      "text/plain": [
       "dtype('int32')"
      ]
     },
     "execution_count": 4,
     "metadata": {},
     "output_type": "execute_result"
    }
   ],
   "source": [
    "a1.dtype"
   ]
  },
  {
   "cell_type": "code",
   "execution_count": 5,
   "id": "cefc6439",
   "metadata": {},
   "outputs": [
    {
     "data": {
      "text/plain": [
       "dtype('float64')"
      ]
     },
     "execution_count": 5,
     "metadata": {},
     "output_type": "execute_result"
    }
   ],
   "source": [
    "a2.dtype"
   ]
  },
  {
   "cell_type": "code",
   "execution_count": 6,
   "id": "100d7eda",
   "metadata": {},
   "outputs": [
    {
     "data": {
      "text/plain": [
       "dtype('<U1')"
      ]
     },
     "execution_count": 6,
     "metadata": {},
     "output_type": "execute_result"
    }
   ],
   "source": [
    "a3.dtype"
   ]
  },
  {
   "cell_type": "markdown",
   "id": "2ca52c42",
   "metadata": {},
   "source": [
    "### numpy 배열 생성하기 ==> arange()"
   ]
  },
  {
   "cell_type": "code",
   "execution_count": 7,
   "id": "dd0a88de",
   "metadata": {},
   "outputs": [
    {
     "data": {
      "text/plain": [
       "array([0, 1, 2, 3, 4, 5, 6, 7, 8, 9])"
      ]
     },
     "execution_count": 7,
     "metadata": {},
     "output_type": "execute_result"
    }
   ],
   "source": [
    "b1 = np.arange(0,10,1)\n",
    "b1"
   ]
  },
  {
   "cell_type": "code",
   "execution_count": 8,
   "id": "a0d4d462",
   "metadata": {},
   "outputs": [
    {
     "data": {
      "text/plain": [
       "array([0, 1, 2, 3, 4])"
      ]
     },
     "execution_count": 8,
     "metadata": {},
     "output_type": "execute_result"
    }
   ],
   "source": [
    "b2 = np.arange(5)\n",
    "b2"
   ]
  },
  {
   "cell_type": "markdown",
   "id": "7b01f622",
   "metadata": {},
   "source": [
    "## numpy 배열 생성하기 ==> 다차원 배열"
   ]
  },
  {
   "cell_type": "code",
   "execution_count": 9,
   "id": "faa1b7a3",
   "metadata": {},
   "outputs": [
    {
     "data": {
      "text/plain": [
       "array([[1, 2],\n",
       "       [3, 4]])"
      ]
     },
     "execution_count": 9,
     "metadata": {},
     "output_type": "execute_result"
    }
   ],
   "source": [
    "import numpy as np\n",
    "\n",
    "c1 = np.array([[1,2],[3,4]])\n",
    "c1"
   ]
  },
  {
   "cell_type": "markdown",
   "id": "488f13f9",
   "metadata": {},
   "source": [
    "## 배열생성하기 ==> reshape(m,n)을 추가하면 m x n 형태의 2차원 배열로 변경"
   ]
  },
  {
   "cell_type": "code",
   "execution_count": 10,
   "id": "2881da90",
   "metadata": {},
   "outputs": [],
   "source": [
    "arr1 = np.arange(20)"
   ]
  },
  {
   "cell_type": "code",
   "execution_count": 11,
   "id": "b08673b5",
   "metadata": {},
   "outputs": [
    {
     "data": {
      "text/plain": [
       "array([ 0,  1,  2,  3,  4,  5,  6,  7,  8,  9, 10, 11, 12, 13, 14, 15, 16,\n",
       "       17, 18, 19])"
      ]
     },
     "execution_count": 11,
     "metadata": {},
     "output_type": "execute_result"
    }
   ],
   "source": [
    "arr1"
   ]
  },
  {
   "cell_type": "code",
   "execution_count": 12,
   "id": "ac208fd1",
   "metadata": {},
   "outputs": [
    {
     "data": {
      "text/plain": [
       "array([[ 0,  1,  2,  3,  4],\n",
       "       [ 5,  6,  7,  8,  9],\n",
       "       [10, 11, 12, 13, 14],\n",
       "       [15, 16, 17, 18, 19]])"
      ]
     },
     "execution_count": 12,
     "metadata": {},
     "output_type": "execute_result"
    }
   ],
   "source": [
    "arr1 = np.arange(20).reshape(4,5)\n",
    "arr1"
   ]
  },
  {
   "cell_type": "code",
   "execution_count": 13,
   "id": "56f2d4f5",
   "metadata": {},
   "outputs": [
    {
     "data": {
      "text/plain": [
       "array([[ 0,  1,  2,  3,  4,  5,  6,  7,  8,  9],\n",
       "       [10, 11, 12, 13, 14, 15, 16, 17, 18, 19],\n",
       "       [20, 21, 22, 23, 24, 25, 26, 27, 28, 29]])"
      ]
     },
     "execution_count": 13,
     "metadata": {},
     "output_type": "execute_result"
    }
   ],
   "source": [
    "arr2 = np.arange(30).reshape(3,10)\n",
    "arr2\n"
   ]
  },
  {
   "cell_type": "code",
   "execution_count": 14,
   "id": "9e0dc58d",
   "metadata": {},
   "outputs": [
    {
     "data": {
      "text/plain": [
       "array([[0., 0., 0., 0., 0.],\n",
       "       [0., 0., 0., 0., 0.],\n",
       "       [0., 0., 0., 0., 0.],\n",
       "       [0., 0., 0., 0., 0.],\n",
       "       [0., 0., 0., 0., 0.]])"
      ]
     },
     "execution_count": 14,
     "metadata": {},
     "output_type": "execute_result"
    }
   ],
   "source": [
    "arr3 = np.zeros((5,5))\n",
    "arr3"
   ]
  },
  {
   "cell_type": "code",
   "execution_count": 15,
   "id": "f4394585",
   "metadata": {},
   "outputs": [
    {
     "data": {
      "text/plain": [
       "array([[1., 1., 1., 1., 1.],\n",
       "       [1., 1., 1., 1., 1.],\n",
       "       [1., 1., 1., 1., 1.],\n",
       "       [1., 1., 1., 1., 1.],\n",
       "       [1., 1., 1., 1., 1.]])"
      ]
     },
     "execution_count": 15,
     "metadata": {},
     "output_type": "execute_result"
    }
   ],
   "source": [
    "arr4 = np.ones((5,5))\n",
    "arr4"
   ]
  },
  {
   "cell_type": "code",
   "execution_count": 16,
   "id": "a3d296de",
   "metadata": {},
   "outputs": [
    {
     "name": "stdout",
     "output_type": "stream",
     "text": [
      "(4, 5)\n"
     ]
    }
   ],
   "source": [
    "print(arr1.shape)"
   ]
  },
  {
   "cell_type": "markdown",
   "id": "716af53f",
   "metadata": {},
   "source": [
    "# numpy배열 사칙 연산"
   ]
  },
  {
   "cell_type": "code",
   "execution_count": 17,
   "id": "58ded1df",
   "metadata": {},
   "outputs": [],
   "source": [
    "arr5 = np.array([[1,2,3],[4,5,6]])            #array()로 2차원 배열 생성\n",
    "arr6 = np.arange(7,13,1).reshape(2,3)         # arange().reshape() 로 2차원 배열 생성\n"
   ]
  },
  {
   "cell_type": "code",
   "execution_count": 18,
   "id": "eec55113",
   "metadata": {},
   "outputs": [
    {
     "data": {
      "text/plain": [
       "array([[1, 2, 3],\n",
       "       [4, 5, 6]])"
      ]
     },
     "execution_count": 18,
     "metadata": {},
     "output_type": "execute_result"
    }
   ],
   "source": [
    "arr5"
   ]
  },
  {
   "cell_type": "code",
   "execution_count": 19,
   "id": "6ab53c53",
   "metadata": {},
   "outputs": [
    {
     "data": {
      "text/plain": [
       "array([[ 7,  8,  9],\n",
       "       [10, 11, 12]])"
      ]
     },
     "execution_count": 19,
     "metadata": {},
     "output_type": "execute_result"
    }
   ],
   "source": [
    "arr6"
   ]
  },
  {
   "cell_type": "code",
   "execution_count": 20,
   "id": "4d5667ce",
   "metadata": {},
   "outputs": [
    {
     "name": "stdout",
     "output_type": "stream",
     "text": [
      "=> arr5 + arr6=\n",
      "[[ 8 10 12]\n",
      " [14 16 18]]\n"
     ]
    }
   ],
   "source": [
    "print(\"=> arr5 + arr6=\")\n",
    "print(arr5 + arr6)"
   ]
  },
  {
   "cell_type": "code",
   "execution_count": 21,
   "id": "6d1b7c1f",
   "metadata": {},
   "outputs": [
    {
     "name": "stdout",
     "output_type": "stream",
     "text": [
      "=> arr5 - arr6=\n",
      "[[-6 -6 -6]\n",
      " [-6 -6 -6]]\n"
     ]
    }
   ],
   "source": [
    "print(\"=> arr5 - arr6=\")\n",
    "print(arr5 - arr6)"
   ]
  },
  {
   "cell_type": "code",
   "execution_count": 22,
   "id": "1cc273b3",
   "metadata": {},
   "outputs": [
    {
     "name": "stdout",
     "output_type": "stream",
     "text": [
      "=> arr5 * arr6=\n",
      "[[ 7 16 27]\n",
      " [40 55 72]]\n"
     ]
    }
   ],
   "source": [
    "print(\"=> arr5 * arr6=\")\n",
    "print(arr5 * arr6)"
   ]
  },
  {
   "cell_type": "code",
   "execution_count": 23,
   "id": "293c6150",
   "metadata": {},
   "outputs": [
    {
     "name": "stdout",
     "output_type": "stream",
     "text": [
      "=> arr5 / arr6=\n",
      "[[0.14285714 0.25       0.33333333]\n",
      " [0.4        0.45454545 0.5       ]]\n"
     ]
    }
   ],
   "source": [
    "print(\"=> arr5 / arr6=\")\n",
    "print(arr5 / arr6)"
   ]
  },
  {
   "cell_type": "code",
   "execution_count": 24,
   "id": "e2358662",
   "metadata": {},
   "outputs": [
    {
     "name": "stdout",
     "output_type": "stream",
     "text": [
      "[29, 30, 28, 29, 30, 28, 29, 30, 28, 29, 30, 28, 29, 30, 28]\n"
     ]
    }
   ],
   "source": [
    "# 넘파이와 리스트 비교\n",
    "mid_scores = [29,30,28]\n",
    "final_scores = [30,20,50]\n",
    "total = mid_scores * 5  \n",
    "print(total)"
   ]
  },
  {
   "cell_type": "code",
   "execution_count": 25,
   "id": "9ea251ea",
   "metadata": {},
   "outputs": [
    {
     "name": "stdout",
     "output_type": "stream",
     "text": [
      "[29, 30, 28, 30, 20, 50]\n"
     ]
    }
   ],
   "source": [
    "# 넘파이와 리스트 비교\n",
    "mid_scores = [29,30,28]\n",
    "final_scores = [30,20,50]\n",
    "total = mid_scores + final_scores   #리스트의 +은 리스트 연결\n",
    "print(total)"
   ]
  },
  {
   "cell_type": "code",
   "execution_count": 26,
   "id": "93d9d01a",
   "metadata": {},
   "outputs": [
    {
     "name": "stdout",
     "output_type": "stream",
     "text": [
      "[ True False False False False False]\n"
     ]
    }
   ],
   "source": [
    "# 인덱싱으로 값을 추출하기\n",
    "import numpy as np\n",
    "\n",
    "data = [100,50,80,88,70,79]\n",
    "score = np.array(data)\n",
    "\n",
    "result = score > 88\n",
    "print(result)"
   ]
  },
  {
   "cell_type": "code",
   "execution_count": 27,
   "id": "6fef5536",
   "metadata": {},
   "outputs": [
    {
     "name": "stdout",
     "output_type": "stream",
     "text": [
      "[ True False False False False False]\n"
     ]
    }
   ],
   "source": [
    "# 인덱싱으로 값을 추출하기\n",
    "import numpy as np\n",
    "\n",
    "data = [100,50,80,88,70,79]\n",
    "score = np.array(data)\n",
    "\n",
    "result = score > 88\n",
    "print(result)"
   ]
  },
  {
   "cell_type": "code",
   "execution_count": 28,
   "id": "14c19711",
   "metadata": {},
   "outputs": [
    {
     "name": "stdout",
     "output_type": "stream",
     "text": [
      "[100]\n"
     ]
    }
   ],
   "source": [
    "# 인덱싱으로 값을 추출하기\n",
    "import numpy as np\n",
    "\n",
    "data = [100,50,80,88,70,79]\n",
    "score = np.array(data)\n",
    "\n",
    "print(score[score > 88])"
   ]
  },
  {
   "cell_type": "markdown",
   "id": "38605c24",
   "metadata": {},
   "source": [
    "## numpy 배열 인덱싱"
   ]
  },
  {
   "cell_type": "code",
   "execution_count": 29,
   "id": "be40014b",
   "metadata": {},
   "outputs": [
    {
     "data": {
      "text/plain": [
       "100"
      ]
     },
     "execution_count": 29,
     "metadata": {},
     "output_type": "execute_result"
    }
   ],
   "source": [
    "data = [100,50,80,88,70,79]\n",
    "score = np.array(data)\n",
    "score[0]"
   ]
  },
  {
   "cell_type": "code",
   "execution_count": 30,
   "id": "2601143e",
   "metadata": {},
   "outputs": [
    {
     "data": {
      "text/plain": [
       "array([100,  50,  80])"
      ]
     },
     "execution_count": 30,
     "metadata": {},
     "output_type": "execute_result"
    }
   ],
   "source": [
    "score[0:3]"
   ]
  },
  {
   "cell_type": "code",
   "execution_count": 31,
   "id": "4cba2305",
   "metadata": {},
   "outputs": [
    {
     "data": {
      "text/plain": [
       "array([[1, 2],\n",
       "       [3, 4]])"
      ]
     },
     "execution_count": 31,
     "metadata": {},
     "output_type": "execute_result"
    }
   ],
   "source": [
    "arr7 = np.array([[1,2],[3,4]])\n",
    "arr7"
   ]
  },
  {
   "cell_type": "code",
   "execution_count": 32,
   "id": "cb82ead1",
   "metadata": {},
   "outputs": [
    {
     "data": {
      "text/plain": [
       "2"
      ]
     },
     "execution_count": 32,
     "metadata": {},
     "output_type": "execute_result"
    }
   ],
   "source": [
    "arr7[0][1]"
   ]
  },
  {
   "cell_type": "code",
   "execution_count": 33,
   "id": "2c472596",
   "metadata": {},
   "outputs": [
    {
     "data": {
      "text/plain": [
       "4"
      ]
     },
     "execution_count": 33,
     "metadata": {},
     "output_type": "execute_result"
    }
   ],
   "source": [
    "arr7[1][1]"
   ]
  },
  {
   "cell_type": "markdown",
   "id": "7894ca1b",
   "metadata": {},
   "source": [
    "# 시각화"
   ]
  },
  {
   "cell_type": "code",
   "execution_count": 34,
   "id": "6ea37edd",
   "metadata": {},
   "outputs": [
    {
     "data": {
      "image/png": "[encoded data removed]",
      "text/plain": [
       "<Figure size 432x288 with 1 Axes>"
      ]
     },
     "metadata": {
      "needs_background": "light"
     },
     "output_type": "display_data"
    }
   ],
   "source": [
    "# 하나의 차트에 여러개의 데이터 그리기\n",
    "import numpy as np\n",
    "import matplotlib.pyplot as plt\n",
    "\n",
    "x = np.arange(1,11,1)\n",
    "y = np.arange(10,20,1)\n",
    "z = np.arange(20,30,1)\n",
    "\n",
    "plt.plot(x,x,label='x')\n",
    "plt.plot(x,y,label='y')\n",
    "plt.plot(x,z,label='z')\n",
    "\n",
    "plt.xlabel(\"X\")\n",
    "plt.ylabel(\"Y\")\n",
    "\n",
    "plt.legend(loc = 'upper left')\n",
    "plt.title('My plot')\n",
    "plt.show()"
   ]
  },
  {
   "cell_type": "markdown",
   "id": "c24943b4",
   "metadata": {},
   "source": [
    "## numpy를 이용한 산점도 그래프 그리기\n",
    "#### scatter()함수 사용"
   ]
  },
  {
   "cell_type": "code",
   "execution_count": 35,
   "id": "fbd8b068",
   "metadata": {},
   "outputs": [
    {
     "data": {
      "image/png": "[encoded data removed]",
      "text/plain": [
       "<Figure size 432x288 with 2 Axes>"
      ]
     },
     "metadata": {
      "needs_background": "light"
     },
     "output_type": "display_data"
    }
   ],
   "source": [
    "import matplotlib.pyplot as plt\n",
    "import numpy as np\n",
    "\n",
    "n = 50\n",
    "x = np.random.rand(n) # random.rand() (0, 1) 범위에서 균일한 분포를 갖습니다.\n",
    "y = np.random.rand(n)\n",
    "colors = np.random.rand(n) \n",
    "size = 200 * np.random.rand(n)\n",
    "plt.scatter(x,y,s=size, c =colors, alpha = 0.5, cmap = 'jet')\n",
    "plt.colorbar()\n",
    "plt.show()\n"
   ]
  },
  {
   "cell_type": "markdown",
   "id": "6880e6cd",
   "metadata": {},
   "source": [
    "# numpy배열 함수사용"
   ]
  },
  {
   "cell_type": "code",
   "execution_count": 36,
   "id": "79a1d08d",
   "metadata": {},
   "outputs": [
    {
     "name": "stdout",
     "output_type": "stream",
     "text": [
      "[[ 1  2  3  4  5]\n",
      " [ 6  7  8  9 10]]\n",
      "55\n",
      "1\n",
      "10\n",
      "9\n",
      "[ 1  3  6 10 15 21 28 36 45 55]\n"
     ]
    }
   ],
   "source": [
    "import numpy as np\n",
    "\n",
    "# numpy배열 객체 생성\n",
    "a = np.arange(1,11,1).reshape(2,5)\n",
    "print(a)\n",
    "\n",
    "# 모든 요소의 합\n",
    "print(a.sum())\n",
    "\n",
    "# 모든 요소 중 최솟값\n",
    "print(a.min())\n",
    "\n",
    "# 모든 요소 중 최댓값\n",
    "print(a.max())\n",
    "\n",
    "# 모든 요소 중 최댓값의 인덱스\n",
    "print(a.argmax())\n",
    "\n",
    "# 모든 요소의 누적합\n",
    "print(a.cumsum())"
   ]
  },
  {
   "cell_type": "markdown",
   "id": "0ea880e9",
   "metadata": {},
   "source": [
    "# DataFrame을 numpy로 변경"
   ]
  },
  {
   "cell_type": "code",
   "execution_count": 37,
   "id": "0ae470c3",
   "metadata": {},
   "outputs": [
    {
     "data": {
      "text/html": [
       "<div>\n",
       "<style scoped>\n",
       "    .dataframe tbody tr th:only-of-type {\n",
       "        vertical-align: middle;\n",
       "    }\n",
       "\n",
       "    .dataframe tbody tr th {\n",
       "        vertical-align: top;\n",
       "    }\n",
       "\n",
       "    .dataframe thead th {\n",
       "        text-align: right;\n",
       "    }\n",
       "</style>\n",
       "<table border=\"1\" class=\"dataframe\">\n",
       "  <thead>\n",
       "    <tr style=\"text-align: right;\">\n",
       "      <th></th>\n",
       "      <th>Name</th>\n",
       "      <th>Age</th>\n",
       "    </tr>\n",
       "  </thead>\n",
       "  <tbody>\n",
       "    <tr>\n",
       "      <th>0</th>\n",
       "      <td>Park</td>\n",
       "      <td>21</td>\n",
       "    </tr>\n",
       "    <tr>\n",
       "      <th>1</th>\n",
       "      <td>Kim</td>\n",
       "      <td>20</td>\n",
       "    </tr>\n",
       "    <tr>\n",
       "      <th>2</th>\n",
       "      <td>Lee</td>\n",
       "      <td>22</td>\n",
       "    </tr>\n",
       "  </tbody>\n",
       "</table>\n",
       "</div>"
      ],
      "text/plain": [
       "   Name  Age\n",
       "0  Park   21\n",
       "1   Kim   20\n",
       "2   Lee   22"
      ]
     },
     "execution_count": 37,
     "metadata": {},
     "output_type": "execute_result"
    }
   ],
   "source": [
    "import pandas as pd\n",
    "\n",
    "# DataFrame 생성\n",
    "data = [['Park',21],['Kim',20],['Lee',22]]   #리스트들로 데이터프레임을 만들면 리스트들이 하나의 행(row)\n",
    "df = pd.DataFrame(data, columns=['Name','Age'])\n",
    "df\n"
   ]
  },
  {
   "cell_type": "code",
   "execution_count": 38,
   "id": "fa54a89f",
   "metadata": {},
   "outputs": [
    {
     "name": "stdout",
     "output_type": "stream",
     "text": [
      "[['Park' 21]\n",
      " ['Kim' 20]\n",
      " ['Lee' 22]]\n",
      "[['Park' 21]\n",
      " ['Kim' 20]\n",
      " ['Lee' 22]]\n"
     ]
    }
   ],
   "source": [
    "# .values 또는 .to_numpy() 를 사용해 numpy 배열로 변환\n",
    "print(df.values)\n",
    "#print(df.values)\n",
    "print(df.to_numpy())"
   ]
  },
  {
   "cell_type": "code",
   "execution_count": 39,
   "id": "d46bf46a",
   "metadata": {},
   "outputs": [],
   "source": [
    "# DataFrame을 numpy로 변경 전체소스\n",
    "import pandas as pd\n",
    "\n",
    "# DataFrame 생성\n",
    "data = [['Park',21],['Kim',20],['Lee',22]]\n",
    "df = pd.DataFrame(data, columns=['Name','Age'])\n",
    "\n",
    "# .values 또는 .to_numpy() 를 사용해 numpy 배열로 변환\n",
    "#print(df.values)\n",
    "#print(df.to_numpy())\n"
   ]
  },
  {
   "cell_type": "code",
   "execution_count": 40,
   "id": "fac93f74",
   "metadata": {},
   "outputs": [
    {
     "name": "stdout",
     "output_type": "stream",
     "text": [
      "원하는 지역의 이름 입력=>성북구 삼선동\n"
     ]
    },
    {
     "data": {
      "text/html": [
       "<div>\n",
       "<style scoped>\n",
       "    .dataframe tbody tr th:only-of-type {\n",
       "        vertical-align: middle;\n",
       "    }\n",
       "\n",
       "    .dataframe tbody tr th {\n",
       "        vertical-align: top;\n",
       "    }\n",
       "\n",
       "    .dataframe thead th {\n",
       "        text-align: right;\n",
       "    }\n",
       "</style>\n",
       "<table border=\"1\" class=\"dataframe\">\n",
       "  <thead>\n",
       "    <tr style=\"text-align: right;\">\n",
       "      <th></th>\n",
       "      <th>행정기관코드</th>\n",
       "      <th>총 인구수</th>\n",
       "      <th>연령구간인구수</th>\n",
       "      <th>0세</th>\n",
       "      <th>1세</th>\n",
       "      <th>2세</th>\n",
       "      <th>3세</th>\n",
       "      <th>4세</th>\n",
       "      <th>5세</th>\n",
       "      <th>6세</th>\n",
       "      <th>...</th>\n",
       "      <th>91세</th>\n",
       "      <th>92세</th>\n",
       "      <th>93세</th>\n",
       "      <th>94세</th>\n",
       "      <th>95세</th>\n",
       "      <th>96세</th>\n",
       "      <th>97세</th>\n",
       "      <th>98세</th>\n",
       "      <th>99세</th>\n",
       "      <th>100세 이상</th>\n",
       "    </tr>\n",
       "    <tr>\n",
       "      <th>행정기관</th>\n",
       "      <th></th>\n",
       "      <th></th>\n",
       "      <th></th>\n",
       "      <th></th>\n",
       "      <th></th>\n",
       "      <th></th>\n",
       "      <th></th>\n",
       "      <th></th>\n",
       "      <th></th>\n",
       "      <th></th>\n",
       "      <th></th>\n",
       "      <th></th>\n",
       "      <th></th>\n",
       "      <th></th>\n",
       "      <th></th>\n",
       "      <th></th>\n",
       "      <th></th>\n",
       "      <th></th>\n",
       "      <th></th>\n",
       "      <th></th>\n",
       "      <th></th>\n",
       "    </tr>\n",
       "  </thead>\n",
       "  <tbody>\n",
       "    <tr>\n",
       "      <th>서울특별시 성북구 삼선동</th>\n",
       "      <td>1129055500</td>\n",
       "      <td>22,879</td>\n",
       "      <td>22,879</td>\n",
       "      <td>69</td>\n",
       "      <td>62</td>\n",
       "      <td>64</td>\n",
       "      <td>83</td>\n",
       "      <td>78</td>\n",
       "      <td>106</td>\n",
       "      <td>123</td>\n",
       "      <td>...</td>\n",
       "      <td>26</td>\n",
       "      <td>14</td>\n",
       "      <td>13</td>\n",
       "      <td>14</td>\n",
       "      <td>7</td>\n",
       "      <td>5</td>\n",
       "      <td>3</td>\n",
       "      <td>0</td>\n",
       "      <td>4</td>\n",
       "      <td>10</td>\n",
       "    </tr>\n",
       "  </tbody>\n",
       "</table>\n",
       "<p>1 rows × 104 columns</p>\n",
       "</div>"
      ],
      "text/plain": [
       "                   행정기관코드   총 인구수 연령구간인구수  0세  1세  2세  3세  4세   5세   6세  ...  \\\n",
       "행정기관                                                                     ...   \n",
       "서울특별시 성북구 삼선동  1129055500  22,879  22,879  69  62  64  83  78  106  123  ...   \n",
       "\n",
       "              91세 92세 93세 94세 95세 96세 97세 98세 99세 100세 이상  \n",
       "행정기관                                                       \n",
       "서울특별시 성북구 삼선동  26  14  13  14   7   5   3   0   4      10  \n",
       "\n",
       "[1 rows x 104 columns]"
      ]
     },
     "execution_count": 40,
     "metadata": {},
     "output_type": "execute_result"
    }
   ],
   "source": [
    "# 엑셀파일 DataFrame 객체로 불러오기 ->원하는 지역 인구 검색\n",
    "import numpy as np\n",
    "import pandas as pd\n",
    "\n",
    "df = pd.read_excel('population.xlsx', index_col = 1)\n",
    "df\n",
    "name = input('원하는 지역의 이름 입력=>')\n",
    "a = df.index.str.contains(name)\n",
    "df1 = df[a]\n",
    "df1\n"
   ]
  },
  {
   "cell_type": "code",
   "execution_count": 41,
   "id": "9d650e9f",
   "metadata": {},
   "outputs": [
    {
     "name": "stdout",
     "output_type": "stream",
     "text": [
      "[[1129055500 '22,879' '22,879' '69' '62' '64' '83' '78' '106' '123' '123'\n",
      "  '118' '150' '157' '155' '151' '170' '175' '187' '160' '201' '215' '235'\n",
      "  '314' '369' '398' '436' '476' '434' '445' '457' '434' '420' '410' '324'\n",
      "  '345' '300' '333' '313' '304' '257' '309' '319' '312' '312' '308' '291'\n",
      "  '306' '328' '344' '374' '423' '410' '460' '452' '412' '405' '361' '332'\n",
      "  '343' '313' '315' '311' '314' '373' '321' '301' '296' '272' '285' '253'\n",
      "  '192' '211' '165' '163' '204' '168' '196' '199' '161' '160' '151' '176'\n",
      "  '170' '128' '119' '122' '97' '80' '66' '56' '36' '38' '19' '26' '14'\n",
      "  '13' '14' '7' '5' '3' '0' '4' '10']]\n"
     ]
    }
   ],
   "source": [
    "# 검색한 DataFrame -> numpy로 배열로 변경하기\n",
    "print(df1.values)"
   ]
  },
  {
   "cell_type": "code",
   "execution_count": 42,
   "id": "bb12e3d3",
   "metadata": {},
   "outputs": [
    {
     "name": "stdout",
     "output_type": "stream",
     "text": [
      "[[1129055500 '22,879' '22,879' '69' '62' '64' '83' '78' '106' '123' '123'\n",
      "  '118' '150' '157' '155' '151' '170' '175' '187' '160' '201' '215' '235'\n",
      "  '314' '369' '398' '436' '476' '434' '445' '457' '434' '420' '410' '324'\n",
      "  '345' '300' '333' '313' '304' '257' '309' '319' '312' '312' '308' '291'\n",
      "  '306' '328' '344' '374' '423' '410' '460' '452' '412' '405' '361' '332'\n",
      "  '343' '313' '315' '311' '314' '373' '321' '301' '296' '272' '285' '253'\n",
      "  '192' '211' '165' '163' '204' '168' '196' '199' '161' '160' '151' '176'\n",
      "  '170' '128' '119' '122' '97' '80' '66' '56' '36' '38' '19' '26' '14'\n",
      "  '13' '14' '7' '5' '3' '0' '4' '10']]\n"
     ]
    }
   ],
   "source": [
    "print(df1.to_numpy())"
   ]
  }
 ],
 "metadata": {
  "kernelspec": {
   "display_name": "Python 3 (ipykernel)",
   "language": "python",
   "name": "python3"
  },
  "language_info": {
   "codemirror_mode": {
    "name": "ipython",
    "version": 3
   },
   "file_extension": ".py",
   "mimetype": "text/x-python",
   "name": "python",
   "nbconvert_exporter": "python",
   "pygments_lexer": "ipython3",
   "version": "3.9.7"
  }
 },
 "nbformat": 4,
 "nbformat_minor": 5
}

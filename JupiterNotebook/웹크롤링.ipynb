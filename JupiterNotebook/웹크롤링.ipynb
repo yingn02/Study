{
 "cells": [
  {
   "cell_type": "markdown",
   "id": "c487366a",
   "metadata": {},
   "source": [
    "## 웹 크롤링"
   ]
  },
  {
   "cell_type": "markdown",
   "id": "2f4729cf",
   "metadata": {},
   "source": [
    "## requests 라이브러리 사용"
   ]
  },
  {
   "cell_type": "code",
   "execution_count": 1,
   "id": "f08c06b6",
   "metadata": {},
   "outputs": [
    {
     "data": {
      "text/plain": [
       "<Response [200]>"
      ]
     },
     "execution_count": 1,
     "metadata": {},
     "output_type": "execute_result"
    }
   ],
   "source": [
    "import requests\n",
    "r = requests.get('http://www.google.com')\n",
    "r"
   ]
  },
  {
   "cell_type": "code",
   "execution_count": 2,
   "id": "d9465c1f",
   "metadata": {},
   "outputs": [
    {
     "data": {
      "text/plain": [
       "'<!doctype html><html itemscope=\"\" itemtype=\"http://schema.org/WebPage\" lang=\"ko\"><head><meta content'"
      ]
     },
     "execution_count": 2,
     "metadata": {},
     "output_type": "execute_result"
    }
   ],
   "source": [
    "import requests\n",
    "r = requests.get('http://www.google.com')\n",
    "r.text[0:100]"
   ]
  },
  {
   "cell_type": "markdown",
   "id": "358d480a",
   "metadata": {},
   "source": [
    "## HTML 소스코드를 분석하고 처리하기"
   ]
  },
  {
   "cell_type": "code",
   "execution_count": 3,
   "id": "986af3c1",
   "metadata": {},
   "outputs": [
    {
     "data": {
      "text/plain": [
       "<!DOCTYPE html>\n",
       "<html lang=\"en\">\n",
       "<head>\n",
       "<title>Document</title>\n",
       "</head>\n",
       "<body>\n",
       "<a href=\"http://kosis.kr\">국가통계포털</a><br/>\n",
       "<a href=\"http://www.data.go.kr\">공개 데이터 포털</a><br/>\n",
       "<a href=\"http://data.seoul.go.kr\"> 서울 열린데이터 광장</a>\n",
       "</body>\n",
       "</html>"
      ]
     },
     "execution_count": 3,
     "metadata": {},
     "output_type": "execute_result"
    }
   ],
   "source": [
    "from bs4 import BeautifulSoup\n",
    "# 테스트용 html코드\n",
    "html = \"\"\"\n",
    "   <!DOCTYPE html>\n",
    "   <html lang=\"en\">\n",
    "   <head>\n",
    "     <title>Document</title>\n",
    "   </head>\n",
    "   <body>\n",
    "      <a href = \"http://kosis.kr\" >국가통계포털</a><br>\n",
    "      <a href = \"http://www.data.go.kr\">공개 데이터 포털</a><br>\n",
    "      <a href = \"http://data.seoul.go.kr\"> 서울 열린데이터 광장</a>\n",
    "  </body>\n",
    "  </html>\n",
    "    \"\"\"\n",
    "#  BeautifulSoup를 이용해 html 소스 파싱\n",
    "soup = BeautifulSoup(html,'lxml')\n",
    "soup\n"
   ]
  },
  {
   "cell_type": "code",
   "execution_count": 4,
   "id": "7a137a41",
   "metadata": {},
   "outputs": [
    {
     "name": "stdout",
     "output_type": "stream",
     "text": [
      "<!DOCTYPE html>\n",
      "<html lang=\"en\">\n",
      " <head>\n",
      "  <title>\n",
      "   Document\n",
      "  </title>\n",
      " </head>\n",
      " <body>\n",
      "  <a href=\"http://kosis.kr\">\n",
      "   국가통계포털\n",
      "  </a>\n",
      "  <br/>\n",
      "  <a href=\"http://www.data.go.kr\">\n",
      "   공개 데이터 포털\n",
      "  </a>\n",
      "  <br/>\n",
      "  <a href=\"http://data.seoul.go.kr\">\n",
      "   서울 열린데이터 광장\n",
      "  </a>\n",
      " </body>\n",
      "</html>\n",
      "\n"
     ]
    }
   ],
   "source": [
    "print(soup.prettify())"
   ]
  },
  {
   "cell_type": "code",
   "execution_count": 5,
   "id": "6a97c514",
   "metadata": {},
   "outputs": [
    {
     "data": {
      "text/plain": [
       "<a href=\"http://kosis.kr\">국가통계포털</a>"
      ]
     },
     "execution_count": 5,
     "metadata": {},
     "output_type": "execute_result"
    }
   ],
   "source": [
    "soup.find('a')"
   ]
  },
  {
   "cell_type": "code",
   "execution_count": 6,
   "id": "4bdae28d",
   "metadata": {},
   "outputs": [
    {
     "data": {
      "text/plain": [
       "'국가통계포털'"
      ]
     },
     "execution_count": 6,
     "metadata": {},
     "output_type": "execute_result"
    }
   ],
   "source": [
    "soup.find('a').get_text()"
   ]
  },
  {
   "cell_type": "code",
   "execution_count": 7,
   "id": "ce7e764c",
   "metadata": {},
   "outputs": [
    {
     "data": {
      "text/plain": [
       "[<a href=\"http://kosis.kr\">국가통계포털</a>,\n",
       " <a href=\"http://www.data.go.kr\">공개 데이터 포털</a>,\n",
       " <a href=\"http://data.seoul.go.kr\"> 서울 열린데이터 광장</a>]"
      ]
     },
     "execution_count": 7,
     "metadata": {},
     "output_type": "execute_result"
    }
   ],
   "source": [
    "soup.find_all('a')"
   ]
  },
  {
   "cell_type": "code",
   "execution_count": 8,
   "id": "2475e89a",
   "metadata": {},
   "outputs": [
    {
     "name": "stdout",
     "output_type": "stream",
     "text": [
      "국가통계포털\n",
      "공개 데이터 포털\n",
      " 서울 열린데이터 광장\n"
     ]
    }
   ],
   "source": [
    "site_names = soup.find_all('a')\n",
    "for site_name in site_names:\n",
    "    print(site_name.get_text())"
   ]
  },
  {
   "cell_type": "code",
   "execution_count": 9,
   "id": "8a0532a4",
   "metadata": {},
   "outputs": [
    {
     "data": {
      "text/plain": [
       "<title> 작품과 작가</title>"
      ]
     },
     "execution_count": 9,
     "metadata": {},
     "output_type": "execute_result"
    }
   ],
   "source": [
    "from bs4 import BeautifulSoup\n",
    "# 테스트용 Html 코드\n",
    "html2 = \"\"\"\n",
    "<html>\n",
    "  <head>\n",
    "   <title> 작품과 작가</title>\n",
    "  <head>\n",
    "  <body>\n",
    "   <h1>책 정보</h1>\n",
    "   <p id = \"book_title\"> 이것이 데이터 분석이다 with 파이썬</p>\n",
    "   <p id = \"author\">윤기태\n",
    "   \n",
    "   <p id = \"book_title\"> 데이터 분석을 위한 파이썬 철저 입문</p>\n",
    "   <p id = \"author\">최은석\n",
    "   \n",
    "   <p id = \"book_title\"> 모두의 데이터 분석 with 파이썬</p>\n",
    "   <p id = \"author\">송선리, 이현아</p>\n",
    "  </body>\n",
    "  </html>\n",
    "  \"\"\"\n",
    "soup2 = BeautifulSoup(html2,'lxml')\n",
    "soup2.title"
   ]
  },
  {
   "cell_type": "code",
   "execution_count": 10,
   "id": "cf5f357d",
   "metadata": {},
   "outputs": [
    {
     "data": {
      "text/plain": [
       "<body>\n",
       "<h1>책 정보</h1>\n",
       "<p id=\"book_title\"> 이것이 데이터 분석이다 with 파이썬</p>\n",
       "<p id=\"author\">윤기태\n",
       "   \n",
       "   </p><p id=\"book_title\"> 데이터 분석을 위한 파이썬 철저 입문</p>\n",
       "<p id=\"author\">최은석\n",
       "   \n",
       "   </p><p id=\"book_title\"> 모두의 데이터 분석 with 파이썬</p>\n",
       "<p id=\"author\">송선리, 이현아</p>\n",
       "</body>"
      ]
     },
     "execution_count": 10,
     "metadata": {},
     "output_type": "execute_result"
    }
   ],
   "source": [
    "soup2.body"
   ]
  },
  {
   "cell_type": "code",
   "execution_count": 11,
   "id": "ab593ce7",
   "metadata": {},
   "outputs": [
    {
     "data": {
      "text/plain": [
       "<h1>책 정보</h1>"
      ]
     },
     "execution_count": 11,
     "metadata": {},
     "output_type": "execute_result"
    }
   ],
   "source": [
    "soup2.body.h1"
   ]
  },
  {
   "cell_type": "code",
   "execution_count": 12,
   "id": "9dda4508",
   "metadata": {},
   "outputs": [
    {
     "data": {
      "text/plain": [
       "[<p id=\"book_title\"> 이것이 데이터 분석이다 with 파이썬</p>,\n",
       " <p id=\"author\">윤기태\n",
       "    \n",
       "    </p>,\n",
       " <p id=\"book_title\"> 데이터 분석을 위한 파이썬 철저 입문</p>,\n",
       " <p id=\"author\">최은석\n",
       "    \n",
       "    </p>,\n",
       " <p id=\"book_title\"> 모두의 데이터 분석 with 파이썬</p>,\n",
       " <p id=\"author\">송선리, 이현아</p>]"
      ]
     },
     "execution_count": 12,
     "metadata": {},
     "output_type": "execute_result"
    }
   ],
   "source": [
    "soup2.find_all('p')"
   ]
  },
  {
   "cell_type": "code",
   "execution_count": 13,
   "id": "3825ff3e",
   "metadata": {},
   "outputs": [
    {
     "data": {
      "text/plain": [
       "[<p id=\"book_title\"> 이것이 데이터 분석이다 with 파이썬</p>,\n",
       " <p id=\"book_title\"> 데이터 분석을 위한 파이썬 철저 입문</p>,\n",
       " <p id=\"book_title\"> 모두의 데이터 분석 with 파이썬</p>]"
      ]
     },
     "execution_count": 13,
     "metadata": {},
     "output_type": "execute_result"
    }
   ],
   "source": [
    "soup2.find_all('p',{\"id\":\"book_title\"})"
   ]
  },
  {
   "cell_type": "code",
   "execution_count": 14,
   "id": "49ea06d8",
   "metadata": {},
   "outputs": [
    {
     "data": {
      "text/plain": [
       "[<p id=\"author\">윤기태\n",
       "    \n",
       "    </p>,\n",
       " <p id=\"author\">최은석\n",
       "    \n",
       "    </p>,\n",
       " <p id=\"author\">송선리, 이현아</p>]"
      ]
     },
     "execution_count": 14,
     "metadata": {},
     "output_type": "execute_result"
    }
   ],
   "source": [
    "soup2.find_all('p',{\"id\":\"author\"})"
   ]
  },
  {
   "cell_type": "code",
   "execution_count": 15,
   "id": "dab15d84",
   "metadata": {},
   "outputs": [
    {
     "name": "stdout",
     "output_type": "stream",
     "text": [
      " 이것이 데이터 분석이다 with 파이썬/윤기태\n",
      "   \n",
      "   \n",
      " 데이터 분석을 위한 파이썬 철저 입문/최은석\n",
      "   \n",
      "   \n",
      " 모두의 데이터 분석 with 파이썬/송선리, 이현아\n"
     ]
    }
   ],
   "source": [
    "from bs4 import BeautifulSoup\n",
    "soup2 = BeautifulSoup(html2,'lxml')\n",
    "\n",
    "book_tiles = soup2.find_all('p',{\"id\":\"book_title\"})\n",
    "authors = soup2.find_all('p',{\"id\":\"author\"})\n",
    "\n",
    "for book_title, author in zip(book_tiles,authors):\n",
    "    print(book_title.get_text() + '/' + author.get_text())"
   ]
  },
  {
   "cell_type": "code",
   "execution_count": 16,
   "id": "c5c3c71a",
   "metadata": {},
   "outputs": [
    {
     "data": {
      "text/plain": [
       "[<a class=\"bookstore\" href=\"http://www.yes24.com\"> yes24 </a>]"
      ]
     },
     "execution_count": 16,
     "metadata": {},
     "output_type": "execute_result"
    }
   ],
   "source": [
    "from bs4 import BeautifulSoup\n",
    "html3 = \"\"\"\n",
    "<html>\n",
    "  <head>\n",
    "   <title> 작품과 작가</title>\n",
    "  <head>\n",
    "  <body>\n",
    "   <h1>책 정보</h1>\n",
    "   <p id = \"book_title\" class = \"book\"> 이것이 데이터 분석이다 with 파이썬</p>\n",
    "   <p id = \"author\">윤기태\n",
    "   \n",
    "   <p id = \"book_title\" class = \"book\"> 데이터 분석을 위한 파이썬 철저 입문</p>\n",
    "   <p id = \"author\">최은석\n",
    "   \n",
    "   <p id = \"book_title\" class = \"book\"> 모두의 데이터 분석 with 파이썬</p>\n",
    "   <p id = \"author\">송선리, 이현아</p>\n",
    "   \n",
    "   <a  href = \"http://www.yes24.com\" class = \"bookstore\" > yes24 </a>\n",
    "  </body>\n",
    "  </html>\n",
    "\"\"\"\n",
    "soup3 =  BeautifulSoup(html3, 'lxml')\n",
    "soup3.select('a.bookstore')"
   ]
  },
  {
   "cell_type": "code",
   "execution_count": 17,
   "id": "0ddb06f2",
   "metadata": {},
   "outputs": [
    {
     "data": {
      "text/plain": [
       "[<p class=\"book\" id=\"book_title\"> 이것이 데이터 분석이다 with 파이썬</p>,\n",
       " <p class=\"book\" id=\"book_title\"> 데이터 분석을 위한 파이썬 철저 입문</p>,\n",
       " <p class=\"book\" id=\"book_title\"> 모두의 데이터 분석 with 파이썬</p>]"
      ]
     },
     "execution_count": 17,
     "metadata": {},
     "output_type": "execute_result"
    }
   ],
   "source": [
    "soup3.select('p#book_title')"
   ]
  },
  {
   "cell_type": "code",
   "execution_count": 18,
   "id": "6ac345fe",
   "metadata": {},
   "outputs": [
    {
     "data": {
      "text/plain": [
       "[<a class=\"bookstore\" href=\"http://www.yes24.com\"> yes24 </a>]"
      ]
     },
     "execution_count": 18,
     "metadata": {},
     "output_type": "execute_result"
    }
   ],
   "source": [
    "soup3.select('html body a')"
   ]
  },
  {
   "cell_type": "code",
   "execution_count": 19,
   "id": "df964352",
   "metadata": {},
   "outputs": [
    {
     "data": {
      "text/plain": [
       "[<a class=\"bookstore\" href=\"http://www.yes24.com\"> yes24 </a>]"
      ]
     },
     "execution_count": 19,
     "metadata": {},
     "output_type": "execute_result"
    }
   ],
   "source": [
    "soup3.select('body a')"
   ]
  },
  {
   "cell_type": "code",
   "execution_count": 20,
   "id": "5799acd5",
   "metadata": {},
   "outputs": [
    {
     "data": {
      "text/plain": [
       "[<a class=\"bookstore\" href=\"http://www.yes24.com\"> yes24 </a>]"
      ]
     },
     "execution_count": 20,
     "metadata": {},
     "output_type": "execute_result"
    }
   ],
   "source": [
    "soup3.select('a')"
   ]
  },
  {
   "cell_type": "code",
   "execution_count": 21,
   "id": "611eb0c3",
   "metadata": {},
   "outputs": [
    {
     "data": {
      "text/plain": [
       "[<a class=\"bookstore\" href=\"http://www.yes24.com\"> yes24 </a>]"
      ]
     },
     "execution_count": 21,
     "metadata": {},
     "output_type": "execute_result"
    }
   ],
   "source": [
    "soup3.select('html a')"
   ]
  }
 ],
 "metadata": {
  "kernelspec": {
   "display_name": "Python 3 (ipykernel)",
   "language": "python",
   "name": "python3"
  },
  "language_info": {
   "codemirror_mode": {
    "name": "ipython",
    "version": 3
   },
   "file_extension": ".py",
   "mimetype": "text/x-python",
   "name": "python",
   "nbconvert_exporter": "python",
   "pygments_lexer": "ipython3",
   "version": "3.9.7"
  }
 },
 "nbformat": 4,
 "nbformat_minor": 5
}

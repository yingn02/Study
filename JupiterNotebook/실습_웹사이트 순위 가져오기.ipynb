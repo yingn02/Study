{
 "cells": [
  {
   "cell_type": "markdown",
   "id": "6c65d190",
   "metadata": {},
   "source": [
    "## 웹 사이트 순위 데이터 가져오기"
   ]
  },
  {
   "cell_type": "code",
   "execution_count": 1,
   "id": "39b4b130",
   "metadata": {},
   "outputs": [
    {
     "data": {
      "text/plain": [
       "[<a href=\"/siteinfo/google.com\">Google.com</a>,\n",
       " <a href=\"/siteinfo/youtube.com\">Youtube.com</a>,\n",
       " <a href=\"/siteinfo/naver.com\">Naver.com</a>,\n",
       " <a href=\"/siteinfo/tistory.com\">Tistory.com</a>,\n",
       " <a href=\"/siteinfo/daum.net\">Daum.net</a>,\n",
       " <a href=\"/siteinfo/dcinside.com\">Dcinside.com</a>,\n",
       " <a href=\"/siteinfo/namu.wiki\">Namu.wiki</a>,\n",
       " <a href=\"/siteinfo/kakao.com\">Kakao.com</a>,\n",
       " <a href=\"/siteinfo/instagram.com\">Instagram.com</a>,\n",
       " <a href=\"/siteinfo/coupang.com\">Coupang.com</a>]"
      ]
     },
     "execution_count": 1,
     "metadata": {},
     "output_type": "execute_result"
    }
   ],
   "source": [
    "import requests\n",
    "from bs4 import BeautifulSoup\n",
    "\n",
    "url = \"https://www.alexa.com/topsites/countries/KR\"\n",
    "\n",
    "ranking = requests.get(url).text\n",
    "\n",
    "soup = BeautifulSoup(ranking,'lxml')\n",
    "\n",
    "website_ranking = soup.select('p a')\n",
    "website_ranking[1:11]"
   ]
  },
  {
   "cell_type": "code",
   "execution_count": 2,
   "id": "946b074a",
   "metadata": {},
   "outputs": [
    {
     "data": {
      "text/plain": [
       "'Google.com'"
      ]
     },
     "execution_count": 2,
     "metadata": {},
     "output_type": "execute_result"
    }
   ],
   "source": [
    "website_ranking[1].get_text()"
   ]
  },
  {
   "cell_type": "code",
   "execution_count": 3,
   "id": "07bdcd6f",
   "metadata": {},
   "outputs": [
    {
     "name": "stdout",
     "output_type": "stream",
     "text": [
      "Google.com\n",
      "Youtube.com\n",
      "Naver.com\n",
      "Tistory.com\n",
      "Daum.net\n",
      "Dcinside.com\n",
      "Namu.wiki\n",
      "Kakao.com\n",
      "Instagram.com\n",
      "Coupang.com\n"
     ]
    }
   ],
   "source": [
    "website_10_ranking = website_ranking[1:11]\n",
    "for rank in website_10_ranking:\n",
    "    print(rank.get_text())"
   ]
  },
  {
   "cell_type": "code",
   "execution_count": 4,
   "id": "0f5111a4",
   "metadata": {},
   "outputs": [
    {
     "name": "stdout",
     "output_type": "stream",
     "text": [
      "[----- 웹 사이트 순위(한국)------]\n",
      "1 : Google.com\n",
      "2 : Youtube.com\n",
      "3 : Naver.com\n",
      "4 : Tistory.com\n",
      "5 : Daum.net\n",
      "6 : Dcinside.com\n",
      "7 : Namu.wiki\n",
      "8 : Kakao.com\n",
      "9 : Instagram.com\n",
      "10 : Coupang.com\n"
     ]
    }
   ],
   "source": [
    "import requests\n",
    "from bs4 import BeautifulSoup\n",
    "\n",
    "url = \"https://www.alexa.com/topsites/countries/KR\"\n",
    "\n",
    "ranking = requests.get(url).text\n",
    "\n",
    "soup = BeautifulSoup(ranking,'lxml')\n",
    "\n",
    "website_ranking = soup.select('p a')\n",
    "website_10_ranking = website_ranking[1:11]\n",
    "\n",
    "results = []\n",
    "for rank in website_10_ranking:\n",
    "    result = rank.get_text()\n",
    "    results.append(result)\n",
    "\n",
    "print('[----- 웹 사이트 순위(한국)------]')\n",
    "\n",
    "for k in range(0,10,1):\n",
    "    print(k+1,\":\",results[k])"
   ]
  },
  {
   "cell_type": "code",
   "execution_count": null,
   "id": "81521464",
   "metadata": {},
   "outputs": [],
   "source": []
  }
 ],
 "metadata": {
  "kernelspec": {
   "display_name": "Python 3 (ipykernel)",
   "language": "python",
   "name": "python3"
  },
  "language_info": {
   "codemirror_mode": {
    "name": "ipython",
    "version": 3
   },
   "file_extension": ".py",
   "mimetype": "text/x-python",
   "name": "python",
   "nbconvert_exporter": "python",
   "pygments_lexer": "ipython3",
   "version": "3.9.7"
  }
 },
 "nbformat": 4,
 "nbformat_minor": 5
}

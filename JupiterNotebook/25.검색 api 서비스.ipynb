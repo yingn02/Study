{
 "cells": [
  {
   "cell_type": "code",
   "execution_count": 1,
   "id": "2f065d33",
   "metadata": {},
   "outputs": [
    {
     "name": "stdout",
     "output_type": "stream",
     "text": [
      "검색질의: 코로나\n",
      "{'lastBuildDate': 'Sat, 07 May 2022 23:17:45 +0900', 'total': 270571086, 'start': 1, 'display': 75, 'items': [{'title': '<b>코로나</b>바이러스감염증-19', 'link': 'http://ncov.mohw.go.kr/', 'description': '<b>코로나</b>바이러스감염증-19 정식 홈페이지로 발생현황, 국내발생현황, 국외발생현황, 시도별발생현황, 대상별 유의사항, 생활 속 거리 두기, 공적마스크 공급현황, 피해지원정책, 홍보자료, FAQ, 관련기관(보건소'}, {'title': '<b>코로나</b>바이러스-19 국내현황 | 다음뉴스 - 미디어다음', 'link': 'https://news.daum.net/covid19', 'description': '예정입니다.<b>코로나</b>19 백신 물질이 우리 몸에 들어와 면역세포인 B세포와 T세포를 자극합니다. B세포는 <b>코로나</b>19에 대항하는 항체를 만들고, 면역세포 중 일부는 기억세포로 남습니다. 이후 우리 몸에 <b>코로나</b>바이... '}, {'title': '<b>코로나</b>바이러스감염증-19 - 나무위키', 'link': 'https://namu.wiki/w/%EC%BD%94%EB%A1%9C%EB%82%98%EB%B0%94%EC%9D%B4%EB%9F%AC%EC%8A%A4%EA%B0%90%EC%97%BC%EC%A6%9D-19', 'description': '2019년11월, 중국후베이성우한시에서 처음으로 발생하여 보고된 새로운 유형의 변종 <b>코로나</b>바이러스인 SARS-CoV-2에 의해 발병한 급성 호흡기 전염병이다.'}, {'title': '예방접종 사전예약 시스템', 'link': 'https://ncvr.kdca.go.kr/', 'description': '<b>코로나</b>19/인플루엔자 예방접종 사전예약 시스템'}, {'title': '<b>코로나</b> - 나무위키', 'link': 'https://namu.wiki/w/%EC%BD%94%EB%A1%9C%EB%82%98', 'description': 'Corona 그리스어, 라틴어, 스페인어로 왕관을 뜻하는 단어다. 태양 상층부 대기를 <b>코로나</b>라 하는데, 태양 주변으로 뻗어나가는 형상이 태양신의 왕관을 연상시킨 듯하다. 왕이 새로이 등극해서 관을 쓰는 대관식을 영어로 coronation이라고 하는데, 역시 <b>코로나</b>에서 파생된 단어다.'}, {'title': '시도별 발생동향 &lt; 발생동향 &lt; <b>코로나</b>바이러스감염증-19', 'link': 'http://ncov.mohw.go.kr/bdBoardList_Real.do?brdId=1&brdGubun=13', 'description': '<b>코로나</b>-19 시도별 발생 현황표 - 시도명, 전일대비 확진환자 증감(합계, 국내발생, 해외유입), 확진환자수(명) (확진환자, 사망자수, 발생률) 으로 구성. 합계. 국내 발생. 해외 유입. 확진 환자. 사망자. 발생률 (*) ... '}, {'title': '<b>코로나</b>19(COVID-19) 실시간 상황판', 'link': 'https://coronaboard.kr/', 'description': '<b>코로나</b>19(신종 <b>코로나</b>바이러스)에 관한 세계 각 국가들의 통계 및 뉴스 등을 취합하여 실시간 정보를 제공합니다.'}, {'title': '대전', 'link': 'https://www.daejeon.go.kr/corona19/', 'description': ' '}, {'title': '서울시 <b>코로나</b>19 - 서울특별시 - 다시 뛰는 공정도시 서울', 'link': 'https://www.seoul.go.kr/coronaV/coronaStatus.do', 'description': '서울시 <b>코로나</b>19 통합사이트 - <b>코로나</b>19 현황, 재택치료, 안전·방역, 알림·정보, 자료실로 구성'}, {'title': '<b>코로나</b> 라이브 | 실시간 확진자 현황', 'link': 'https://corona-live.com/', 'description': '국내/세계 <b>코로나</b> 확진자수를 실시간으로 집계하여 제공합니다'}, {'title': '<b>코로나</b>19 지원금 확인 &lt; 복지 &lt; 서울특별시', 'link': 'https://news.seoul.go.kr/welfare/archives/517950', 'description': '<b>코로나</b>19 지원금 확인. 기본 정보를 입력하여 긴급복지 지원금을 확인 해 보세요.'}, {'title': '행정안전부 2021년 국민지원금 안내', 'link': 'https://www.mois.go.kr/2021emgnc/main.html', 'description': '「<b>코로나</b> 상생 국민지원금」이란? <b>코로나</b>바이러스감염증-19(COVID-19) 장기화로 피해를 입은 다수의 국민들을 두텁게 지원하기 위하여 지급하는 지원금으로 가구별 ’21.6월 건강보험료가 국민지원금... 개인정보처... '}, {'title': '<b>코로나</b>19검사&amp;재택치료&amp;치료제 &lt; <b>코로나</b>바이러스감염증-19', 'link': 'http://ncov.mohw.go.kr/extendedCareBoardList.jsp?brdId=8&brdGubun=81', 'description': '(영상) <b>코로나</b>19 자가검사키트 올바른 사용방법과 행동수칙(질병청X식약처)유전자검사(PCR) 우선순위 대상 안내문 <b>코로나</b>19 검사, 이렇게... 부터 전국 확대 적용) [직접알려드립니다] 달라진 <b>코로나</b>19... '}, {'title': '<b>코로나</b>19 예방접종 &gt; <b>코로나</b>19 감염 확진 - 질병관리청', 'link': 'https://ncv.kdca.go.kr/menu.es?mid=a30400000000', 'description': '질병관리청 <b>코로나</b>바이러스감염증-19(covid-19) 일반인용 정보안내'}, {'title': '보건/건강 &gt; <b>코로나</b>19 &gt; <b>코로나</b>19 현황 | 목록', 'link': 'https://covid19.ulsan.go.kr/', 'description': '<b>코로나</b>19 현황 <b>코로나</b>19 <b>코로나</b>19 현황 확진자 현황 (2022.5.4.(수) 0시 기준, 단위 : 명) 구 분 발생 현황 사망 비고 일계 1,119 3 누계 358,552 330 구ㆍ군 발생현황 (2022.5.4.(수) 0시 기준, 단위 : 명)'}, {'title': '<b>코로나</b>19임상시험포털', 'link': 'https://covid19.koreaclinicaltrials.org/', 'description': '<b>코로나</b>를 극복하고 건강한 삶을 찾기 위한 국민과 환자 그리고 임상시험 종사자 등 전문가가 필요로 하는 임상시험관련 정보를 제공 ... '}, {'title': '<b>코로나</b>19 예방접종 &gt; <b>코로나</b>19 감염 확진 &gt; <b>코로나</b>19 입원·격리자 생활지원 - 질병관리청', 'link': 'https://ncv.kdca.go.kr/menu.es?mid=a30406000000', 'description': '질병관리청 <b>코로나</b>바이러스감염증-19(covid-19) 일반인용 정보안내'}, {'title': '오미크론 대응체계 전환 - 수원시청', 'link': 'https://www.suwon.go.kr/web/safesuwon/corona/PD_index.do', 'description': '가능) 비대면 진료 동네병의원 안내 <b>코로나</b>19 확진자 및 동거인 안내문, 자주하는 질문(FAQ) 재택치료 비대면진료 의료상담센터(야간) <b>코로나</b>19 재택치료자 일반관리군 자택에서 전화상담처방 가능 동네 병의원 안내'}, {'title': '<b>코로나</b> 거리두기 해제 - 동아일보', 'link': 'https://www.donga.com/news/Issue/031406', 'description': '2)’보다 전파력이 더 센 것으로 알려진 <b>코로나</b>19 변이 바이러스가 국내에 유입되면서 대유행이 다시... 하지만 전파력이 매우 높을 경우 단시간에 많은 확진자를… 신종 <b>코로나</b>바이러스 감염증(<b>코로나</b>19) 확산... '}, {'title': '<b>코로나</b>바이러스 - 나무위키', 'link': 'https://namu.wiki/w/%EC%BD%94%EB%A1%9C%EB%82%98%EB%B0%94%EC%9D%B4%EB%9F%AC%EC%8A%A4', 'description': \"<b>코로나</b>바이러스(Coronavirus; CoV)는 사람을 포함한 동물에 광범위한 호흡계 및 소화계 감염을 일으키는 RNA 바이러스로, 표면을 현미경으로 관찰했을 때 특징적인 왕관 모양의 돌기 때문에 '<b>코로나</b>(왕관)'라는 이름이 붙었다. 알파<b>코로나</b>바이러스(Alphacoronavirus), 베타<b>코로나</b>바이러스(Betacoronavirus), 감마...\"}, {'title': '<b>코로나</b>바이러스 대응방안 - 교육부', 'link': 'https://www.moe.go.kr/sub/info.do?m=580101&num=01&s=moe', 'description': '열람하신 정보에 대해 만족하십니까? 현재 페이지의 만족도를 평가해 주세요 의견을 수렴하여 빠른 시일 내에 반영하겠습니다 매우만족 만족 보통 불만족 매우불만족 기타 의견 평가하기 ... '}, {'title': '대구광역시 <b>코로나</b>현황', 'link': 'http://covid19.daegu.go.kr/index.html', 'description': '대구광역시 <b>코로나</b>현황'}, {'title': '<b>코로나</b>19 예방접종 &gt; 예방접종 현황 &gt; <b>코로나</b>19 예방접종 전화예약 운영 현황 &gt; 서울 - 질병관리청', 'link': 'https://ncv.kdca.go.kr/menu.es?mid=a11709010000', 'description': '서울 <b>코로나</b>19 예방접종 전화예약 운영 현황. 강남구. 02-3423-7777. 평일. 평일 09:00~18:00'}, {'title': '<b>코로나</b>19는 어떻게 두뇌도 손상시킬 수 있을까? - BBC News 코리아', 'link': 'https://www.bbc.com/korean/news-53288602', 'description': \"여러 연구에서 '<b>코로나</b>19 환자들의 신경학적 이상 증세'가 보고됐다.\"}, {'title': '<b>코로나</b>바이러스감염증-19 - 제주특별자치도', 'link': 'https://covid19.jeju.go.kr/', 'description': '제주특별자치도 <b>코로나</b>19 상황실 ... SNS 공유하기 <b>코로나</b>19 현황보기 / 브리핑 자료 재택치료체계 운영 현황 브리핑자료 제주 현황정보 주간발생동향 2022. 5. 3. 17시 기준 * 매일 10시 업데이트 확진 224,316 제주시 169,957 서귀포시 54,359 (전국 17,346,753) 격리해제 ( '}, {'title': '<b>코로나</b> 업데이트 센터 | 대한항공', 'link': 'https://www.koreanair.com/kr/ko/travel-update/covid19', 'description': '<b>코로나</b>(COVID) 관련, 항공편 운항 및 항공권에 대한 최신 정보를 확인하실 수 있습니다.'}, {'title': '<b>코로나</b> 현황 - 부산광역시 <b>코로나</b>19 (BUSAN COVID-19)', 'link': 'https://www.busan.go.kr/covid19/Corona19.do', 'description': '구군별 <b>코로나</b> 현황 표 : 강서구, 금정구, 기장군, 남구, 동구, 동래구... 기타구군별 <b>코로나</b> 현황 표 : 강서구, 금정구, 기장군, 남구, 동구... 구군별 <b>코로나</b> 현황 표 : 강서구, 금정구, 기장군, 남구, 동구, 동래구... '}, {'title': '<b>코로나</b>19 - 세종특별자치시청', 'link': 'https://www.sejong.go.kr/covid19.do', 'description': '<b>코로나</b>19 대응상황판 확진자 현황 132,071명 치료중 3,164명... 보건소 <b>코로나</b> 핫라인 044-301-2840 세종충남대학교병원 1800-3114... 현장 접수(시간별 인원 한정) <b>코로나</b>19 선별검사 본인부담금 발생'}, {'title': '관리현황 - 김포시청', 'link': 'https://www.gimpo.go.kr/portal/contents.do?key=4844', 'description': '김포시 <b>코로나</b>19 관리현황 - 확진자, 금일, 누계 내용, 재택치료자 금일, 누계 내용 제공. 금일. 누계'}, {'title': '<b>코로나</b>19 노원구 상황 안내 - 노원구청', 'link': 'https://www.nowon.kr/corona19/index.do', 'description': '<b>코로나</b>19 상황안내(확진자(계, 완치자, 치료중), 자가격리(자가격리자, 격리해제자)). 계. 관리중. 관리해제. 관리중. 관리해제'}, {'title': '발열→기침→구토→설사…<b>코로나</b> 증상, 일관된 ‘발현 순서’가 있다 : 과학 : 미래&amp;과학 : 뉴스 : 한겨레', 'link': 'https://www.hani.co.kr/arti/science/science_general/959050.html', 'description': '24일 오전 서울 성북구보건소에 마련된 <b>코로나</b>19 선별진료소에서 시민들이 검사를 받기 위해 줄을 서 있다. 연합뉴스 <b>코로나</b>19(신종 <b>코로나</b>바이러스 감염증)의 특징 가운데 하나는 증상이 매우 다양하다는 점이다.... '}, {'title': '제천시 <b>코로나</b>바이러스 감염증-19 - 제천시청', 'link': 'https://www.jecheon.go.kr/intro/corona/corona.jsp', 'description': '검사안내 재택치료 안내 제천시 <b>코로나</b>19 진단검사 운영 안내 검사시간 : 평일 10:00~16:00 / 주말... 따라 <b>코로나</b>19 검사가 필요한 자 역학적 연관성이 있는 자 감염취약시설 선제검사 신속항원검사 및... '}, {'title': '<b>코로나</b>19 예방접종 &gt; 바로알기 &gt; <b>코로나</b>19 예방접종은 왜 해야 하나요? &gt; <b>코로나</b>19 예방접종은 효과가 있나요? -....', 'link': 'https://ncv.kdca.go.kr/menu.es?mid=a10116020000', 'description': '<b>코로나</b>19 예방접종을 하면, 인체의 면역체계가 <b>코로나</b>19 바이러스의 침입에 어떻게 싸워야 할지 배우게 되어, 우리 몸이 <b>코로나</b>바이러스감염증-19로 아프지 않도록 보호해 줍니다. 예방접종으로... '}, {'title': '<b>코로나</b>19 검사센터 - 인천국제공항 &gt; COVID-19 Free Airport', 'link': 'https://www.airport.kr/ap_cnt/ko/svc/covid19/medical/medical.do', 'description': '<b>코로나</b>19 제1여객터미널 검사센터(동) 검사센터 센터명, 위치, 연락처 안내. 센터명. 인천공항 T1 <b>코로나</b>19 검사센터(동)'}, {'title': '<b>코로나</b>맵', 'link': 'https://coronamap.site/', 'description': '<b>코로나</b>맵 : <b>코로나</b>바이러스의 국내 현황을 알려주는 지도 서비스입니다. 최근 오미크론 확진자 동선을 추가하였습니다. 이용경로를 쉽게 확인할 수 있습니다. ... '}, {'title': '인천공항 <b>코로나</b>19 제1터미널 검사센터 (동) (link is external) - 인천국제공항 &gt; COVID-19 Free Airport', 'link': 'https://www.airport.kr/ap_cnt/ko/svc/covid19/medica1/medica1.do', 'description': '인천공항T1 <b>코로나</b>19 검사센터 PCR 검사 이용시간 안내 표 - 구분, 검사 시간, 결과 확인 가능 시간. RT-PCR 검사. 07:00 ~ 08:00. 당일 11:00 이후 ... '}, {'title': '아산시<b>코로나</b>19현황 - 아산시 종합안내페이지', 'link': 'https://www.asan.go.kr/main/corona/', 'description': '아산시 <b>코로나</b>19 현황 2022. 5.4. 00:00 기준 확진환자 금일확진자 총확진자(누계) 격리(치료)중... 명 <b>코로나</b>19 의심환자 신고 및 민원안내 전화번호 질병관리본부 콜센터 1339 선별진료소... '}, {'title': '보건/건강 &gt; <b>코로나</b>19 &gt; <b>코로나</b>19 공지사항 | 목록 - 울산광역시청', 'link': 'https://www.ulsan.go.kr/u/health/bbs/list.ulsan?bbsId=BBS_0000000000000049&mId=001002001000000000', 'description': '[분야별정보 - 보건/건강] <b>코로나</b>19 공지사항. 308. 고위험군 소아 <b>코로나</b>19 예방접종 안내. 13. 2022.05.03'}, {'title': '<b>코로나</b>19 선별진료소/임시선별검사소 &lt; 복지 &lt; 서울특별시', 'link': 'https://news.seoul.go.kr/welfare/archives/512553', 'description': '<b>코로나</b>19 선별진료소/임시선별검사소 현황을 알려 드립니다. 의료기관 방문 전(선별진료소 포함) 서울시 <b>코로나</b> 콜센터(1899-0221) 또는 지역 보건소를 통해 안내 받으시기 바랍니다.전국 선별진료소 현황... '}, {'title': '<b>코로나</b>19 예방접종 &gt; 바로알기 &gt; <b>코로나</b>19 예방접종, 언제 어디서 할 수 있나요? &gt; 누가 먼저 <b>코로나</b>19 예방접종....', 'link': 'https://ncv.kdca.go.kr/menu.es?mid=a10117010000', 'description': '전 국민이 <b>코로나</b>19 예방접종 대상입니다. 다만, 예방접종 순서는 백신 도입 및 공급, 접종 상황(접종률), 백신별 임상 결과 등을 고려하여 우선접종 권장대상부터 접종하고, 순차적으로 예방접종 대상자를 확대할... '}, {'title': '#<b>코로나</b> 해시태그 • Instagram 사진 및 동영상', 'link': 'https://www.instagram.com/explore/tags/%EC%BD%94%EB%A1%9C%EB%82%98/', 'description': \"게시물 294만개 - '<b>코로나</b>' 해시태그가 표시된 Instagram 사진 및 동영상 보기\"}, {'title': '화성시청 &gt; <b>코로나</b>19 &gt; 신종<b>코로나</b>대응현황New', 'link': 'https://www.hscity.go.kr/www/corona/corona.do', 'description': '[2022.5.4. 0시 기준, <b>코로나</b>19 확진자 발생: 신규 933명 / 누계 339,233명]. 더보기'}, {'title': '한국생명공학연구원_<b>코로나</b>19 바로알기', 'link': 'https://www.kribb.re.kr/kor/sub05/sub05_03_01_01.jsp', 'description': '한국생명공학연구원은 <b>코로나</b>바이러스감염증-19(COVID-19)에 대한 과학 지식, 국내·외 최근 이슈... 개발 관련 연구현황 등 다양한 정보를 한눈에 볼 수 있는 ‘<b>코로나</b>19 A to Z’ 메뉴를 운영하고 있습니다.'}, {'title': '<b>코로나</b>19 현황 특집 - KBS 뉴스 홈페이지', 'link': 'https://news.kbs.co.kr/special/coronaSpecialMain.html', 'description': '뉴스 검색 검색어 입력 검색 버튼 검색창 숨기기 KBS NEWS 제보 분야별 전체 정치 경제 사회 문화 IT·과학 국제 생활·건강 스포츠 연예 날씨 속보·특보 메뉴 닫기 확진자 현황 시도별 추이 연령별 분석... '}, {'title': \"<b>코로나</b>19: 3월 개학...원하면 '학교에서 급식 먹는다' - BBC News 코리아\", 'link': 'https://www.bbc.com/korean/news-55901097', 'description': \"아이들이 &quot;<b>코로나</b>19 사태 전에는 점심은 학교에서 먹고 저녁은 지역아동센터에서 먹었지만, 지금은 그런 것들이 다 끊겼다&quot;고 말했다.신종 <b>코로나</b>바이러스 감염증(<b>코로나</b>19) 사태가 장기화하면서 '돌봄 사각지대... \"}, {'title': '<b>코로나</b>19와 섹스: 당신이 알아야 할 모든 것 - BBC News 코리아', 'link': 'https://www.bbc.com/korean/news-52102003', 'description': '<b>코로나</b>19와 성관계와 관련해 자주 들어오는 질문에 대한 답을 정리했다.'}, {'title': '<b>코로나</b>19 예방접종 &gt; 바로알기 &gt; <b>코로나</b>19 예방접종피해 국가보상체계 - 질병관리청', 'link': 'https://ncv.kdca.go.kr/menu.es?mid=a10122000000', 'description': '2021년 <b>코로나</b>19 예방접종피해 국가보상제도에서 달라진 것이... ⑥ <b>코로나</b>19 예방접종 후 이상반응 소액 피해보상에 대한 동의서 ①... 1부(<b>코로나</b>19 예방접종 후 이상반응으로 진료 받은 의무기록) ⑦ 3개월... '}, {'title': '<b>코로나</b>19 예방접종 &gt; Q&amp;A모음 &gt; <b>코로나</b>19 예방접종 관련 피해보상 - 질병관리청', 'link': 'https://ncv.kdca.go.kr/menu.es?mid=a12212000000', 'description': '<b>코로나</b>19 백신 <b>코로나</b>19 예방접종 사업 <b>코로나</b>19 예방접종 실시기준 <b>코로나</b>19 예방접종 후 이상반응 <b>코로나</b>19 예방접종 관련 피해보상 선택됨 인과성 불충분한 환자 의료비 지원 사업 접종 기관 및 인력 관련... '}, {'title': '<b>코로나</b>19 예방접종 &gt; 바로알기 &gt; <b>코로나</b>19 예방접종은 왜 해야 하나요? &gt; <b>코로나</b>19 예방접종은 어떻게 <b>코로나</b>19로....', 'link': 'https://ncv.kdca.go.kr/menu.es?mid=a10116010000', 'description': '예방접종은 인체의 면역 체계를 훈련시켜 <b>코로나</b>19 바이러스를 인식하고 제거하도록 합니다. 예방접종은 우리 몸이 <b>코로나</b>19에 걸리지 않고... 이후 인체에 <b>코로나</b>19 바이러스가 침입했을 때 활성화되어 바이러스나... '}, {'title': '통영 <b>코로나</b>19 상황 알림 - 통영시청', 'link': 'https://www.tongyeong.go.kr/01174/04510.web', 'description': '통영시 <b>코로나</b>19 상황 알림 (2022.5.5. 14시 기준) 확진자 37,665 명... 지방자치단체 <b>코로나</b>19 재난문자 운영 매뉴얼(2021. 4. 6.개정)에... ※ 확진자 미 발생시 송출 금지 통영시 <b>코로나</b>19 종합안내 경상남도... '}, {'title': '충청남도 <b>코로나</b>19 발생현황 - 충청남도청', 'link': 'https://www.chungnam.go.kr/coronaStatus.do', 'description': '도내 신종 <b>코로나</b>바이러스 관련 격리, 격리해제별 확진환자, 접촉자, 의사환자 현황 안내. 발생. 퇴원. 사망. 발생. 해제. 계. 양성. 음성. 검사중 ... '}, {'title': '강남구청 검색/<b>코로나</b>', 'link': 'https://search.gangnam.go.kr/search.jsp?kwd=%EC%BD%94%EB%A1%9C%EB%82%98', 'description': '알림서비스 &gt; <b>코로나</b>19 제증명서 발급 강남구 포털 &gt; 소통·참여 &gt; 신청 &gt; <b>코로나</b>19 고위험집단시설 신속역학조사 더보기 + 게시판 (6,803건) (어린이를 위한)포스트 <b>코로나</b> 안내서 2022-05-04 강남구통합도서관... '}, {'title': '일반-상세보기([전국]<b>코로나</b>19 백신 접종 후 헌혈금지기간 안내) &gt;공지사항 &gt; 소식&amp;프로모션 | 대한적십자사 혈액....', 'link': 'https://www.bloodinfo.net/notice_general.do?action=detail&brdctsno=408525', 'description': '대한적십자사 혈액관리본부에서 <b>코로나</b>19 백신 접종에 따른 헌혈 제한 기간에 대해 안내드립니다. <b>코로나</b>19 백신 접종을 맞게 되면 백신... 2회 접종하는 <b>코로나</b>19 백신의 경우, 1회차 백신 접종 7일 후로부터... '}, {'title': '<b>코로나</b>19 예방접종 &gt; Q&amp;A모음 &gt; <b>코로나</b>19 예방접종 실시기준 - 질병관리청', 'link': 'https://ncv.kdca.go.kr/menu.es?mid=a12207000000', 'description': '<b>코로나</b>19 예방접종 방법 Q <b>코로나</b>19 백신의 접종 간격과 방법은 어떻게 되나요? Q <b>코로나</b>19 예방접종은 어느 부위에 접종하나요? Q 삼각근에 접종할 수 없는 경우 어디에 접종해야 하나요? Q 화이자 및 모더나... '}, {'title': '<b>코로나</b>바이러스감염증-19 - 포항시청', 'link': 'https://www.pohang.go.kr/COVID-19.html', 'description': '주메뉴 바로가기본문 바로가기 발생동향 포스트 오미크론 대응 계획 선별진료소 예방행동수칙 재택치료 이용안내 <b>코로나</b>19 발생동향 상황판 포항시 <b>코로나</b>19 예방접종 현황 바로가기 포항시 블로그... '}, {'title': '부천시 <b>코로나</b>19 현황 - 부천시청', 'link': 'https://www.bucheon.go.kr/site/main/corona', 'description': '<b>코로나</b>바이러스감염증-19(COVID-19) 부천시... 4.(수) 00:00 기준) 문의전화 질병관리청1339 부천시 <b>코로나</b>19 상황실032... 자세히보기 <b>코로나</b>19 재택치료자 전화상담·처방 안내 바로가기... '}, {'title': '홍천군 <b>코로나</b>바이러스감염증-19 비상대책 - 홍천군청', 'link': 'https://www.hongcheon.go.kr/corona_intro.jsp', 'description': '홍천군 <b>코로나</b> 발생동향 - 확진자 총 인원 및 격리시설, 퇴원, 사망인원 순으로 정보 제공 총 확진자 신규확진자 격리·치료중 격리해제 등 재택관리자 입원중 19,481 78 317 6 19,080 선별진료소... '}, {'title': \"'<b>코로나</b> 증상 나타나면 사람 접촉 마세요'…&quot;증상 나타난 뒤 5일 이내가 감염력 정점&quot; : 동아사이언스\", 'link': 'http://www.dongascience.com/news.php?idx=35001', 'description': '의료진과 환자 등 8명이 신종 <b>코로나</b>바이러스 감염증(<b>코로나</b>19) 확진 판정을 받아 진료가 중단된 경기도 성남시 분당제생병원에서 6일 오전 의료진이 검체 채취를 하고 있다. 연합뉴스 제공신종 <b>코로나</b>바이러스 감염증(COVID-19, ...'}, {'title': '<b>코로나</b> 바이러스 갤러리 - 커뮤니티 포털 디시인사이드', 'link': 'https://gall.dcinside.com/board/lists/?id=coronavirus', 'description': '이슈 카테고리로 분류된 <b>코로나</b> 바이러스 갤러리입니다. <b>코로나</b> 바이러스 갤러리에 다양한 이야기를 남겨주세요.'}, {'title': '<b>코로나</b>19 방역수칙 위반 신고센터&lt;민원신청&lt;응답소 - 서울특별시 응답소', 'link': 'https://eungdapso.seoul.go.kr/Req/Req02/Req02_not2.jsp', 'description': '<b>코로나</b>19 방역수칙 위반 신고센터 홈 &gt; 민원신청 &gt;<b>코로나</b>19 방역수칙 위반 신고센터 <b>코로나</b>바이러스감염증-19 및 집단감염 위험 준수사항 위반사업장에 대한 전용 신고 창구입니다. 신청하신 민원은 「민원 처리에... '}, {'title': '<b>코로나</b>19 Q&amp;A &lt; 복지 &lt; 서울특별시', 'link': 'https://news.seoul.go.kr/welfare/archives/512303', 'description': '<b>코로나</b>19 안전 · 방역 복지 생활보건의료 <b>코로나</b>19(covid19) <b>코로나</b>19 안전 · 방역 백신접종 이상반응 상담센터 <b>코로나</b>19 선별진료소/임시선별검사소 동네병원신속항원검사 <b>코로나</b>19 자가검사키트 올바른... '}, {'title': 'CORONANOW - <b>코로나</b>나우 DashBoard', 'link': 'https://www.coronanow.kr/', 'description': '<b>코로나</b>-19 종합 대시보드, <b>코로나</b>나우입니다.'}, {'title': '미추홀구 <b>코로나</b>19 대응 현황', 'link': 'https://www.michuhol.go.kr/main/covid_19.do', 'description': '미추홀구 <b>코로나</b>19 대응 현황 2022년 05월 04일 (수) 10:00 기준 미추홀구 확진자현황 확진자 134... 전국 <b>코로나</b> 19 대응현황 인천광역시 <b>코로나</b> 19 대응현황 <b>코로나</b>19 정보 미추홀구 선별진료소... '}, {'title': '<b>코로나</b>19 예방접종 &gt; <b>코로나</b>19 감염 확진 &gt; 장례지원비 지원 &gt; <b>코로나</b>19 장례 - 질병관리청', 'link': 'https://ncv.kdca.go.kr/menu.es?mid=a30407010000', 'description': '질병관리청 <b>코로나</b>바이러스감염증-19(covid-19) 일반인용 정보안내'}, {'title': '함양군청 - 함양 <b>코로나</b>19 상황 알림', 'link': 'https://www.hygn.go.kr/03017/04262.web', 'description': '정보 확인 시 ~ 마지막 접촉자와 접촉한 날로부터 14일 경과 시성별, 연령, 국적, 거주지(읍면동이하)및 직장명 등 개인을 특정하는 정보를 공개하지 않습니다 <b>코로나</b>19는 증상 발생 2일 전부터, 무증상 시 검체 채취... '}, {'title': '[팩트체크K] <b>코로나</b>19 완치돼도 폐 손상 후유증이 남는다? - KBS 뉴스 홈페이지', 'link': 'https://news.kbs.co.kr/news/view.do?ncd=4385557', 'description': '&quot;<b>코로나</b>19에 걸렸다가 완치돼도 폐 손상 때문에 평생 약을 먹어야 한다.&quot; 한 제보자께서 취재진에게 팩트체...'}, {'title': '<b>코로나</b>19 예방접종 &gt; Q&amp;A모음 &gt; <b>코로나</b>19 예방접종 사업 - 질병관리청', 'link': 'https://ncv.kdca.go.kr/menu.es?mid=a12206000000', 'description': '개요 Q <b>코로나</b>19 예방접종을 왜 해야 하나요?Q <b>코로나</b>19 예방접종 대상자는 누구인가요? Q 우리나라의 <b>코로나</b>19 예방접종 목표는 무엇인가요? <b>코로나</b>19 예방접종 대상자 및 시행 Q <b>코로나</b>19 예방접종 대상자에... '}, {'title': '청양군 <b>코로나</b> 19 상황알림 - 청양군청', 'link': 'http://www.cheongyang.go.kr/intro_corona.jsp', 'description': '청양군 <b>코로나</b> 19 상황알림 - 확진자(누계,금일), 환자현황(완치, 치료중, 사망), 검체검사(총계, 양성, 음성판정, 검사중) 로 나뉘어 설명합니다.. 누계. 금일. 완치. 치료중. 사망. 총계. 양성. 음성판정. 검사중 ... '}, {'title': '<b>코로나</b> - 공연의 모든 것 - 플레이DB', 'link': 'https://www.playdb.co.kr/artistdb/detail.asp?ManNo=36683', 'description': '밴드 <b>코로나</b>는 2010년 대학가요제 대상의 실력파 뮤지션 이인세를 보컬로 홍대 거리의 마성의... 전기뱀장어, <b>코로나</b> 콘서트 2019.03.21 ~ 2019.03.21 롤링홀 <b>코로나</b> X 뷰티핸섬 콘서트 2018.07.28 ~ 2018.07.28... '}, {'title': '부여군청 <b>코로나</b>19 상황알림', 'link': 'https://www.buyeo.go.kr/corona.html', 'description': '확진환자 접촉자 조사 시 동선(이동경로 등) 공개의 범위 (<b>코로나</b>바이러스감염증-19 대응... 결정 <b>코로나</b>19 의심 신고 및 민원안내 전화번호 <b>코로나</b>19 의심 신고 및 민원안내... '}, {'title': '질병관리청 COOV(<b>코로나</b>19 전자예방접종증명서) - Google Play 앱', 'link': 'https://play.google.com/store/apps/details?id=kr.go.kdca.coov', 'description': '* 앱 설치 후 업데이트 안내가 계속 나오는 경우, 앱 종료 후 다시 실행해주세요. 질병관리청과 (주)블록체인랩스에서 개발한 세계 최초 블록체인 기반의 <b>코로나</b>19 디지털 예방접종 인증 앱입니다. 블록체인 기술을 이용  ... '}, {'title': '서울시 <b>코로나</b>19 피해 50인 미만 사업체 무급휴직 고용유지지원금 지원 &lt; 경제 &lt; 서울특별시', 'link': 'https://news.seoul.go.kr/economy/archives/506730', 'description': '서울시가 <b>코로나</b>19로 인해 무급휴직이 불가피한 5인 미만 소상공인 사업체 근로자에게 무급휴직 고용유지지원금을 지원합니다.'}, {'title': '<b>코로나</b> Archives - 블록인프레스', 'link': 'https://blockinpress.com/archives/tag/%EC%BD%94%EB%A1%9C%EB%82%98', 'description': '미국인들이 신종 <b>코로나</b>바이러스 감염증(<b>코로나</b>19) 재난지원금으로 비트코인(BTC)에 투자했다면 140... 받은 <b>코로나</b>19 재난지원금 3200달러를 BTC에 투자했다면 약 4514달러의 수익을 올려 141%의…유럽연합(EU)이 신종... '}, {'title': '<b>코로나</b> : 원인, 증상, <b>코로나</b>에 좋은 음식, 그리고 면역력 높이는 음식', 'link': 'https://paydayloansrnm.com/', 'description': '<b>코로나</b> 백신 <b>코로나</b>는 바이러스가 호흡기로 호흡되어 감염이 발생할 수 있습니다. <b>코로나</b>에 좋은 음식과 면역력 높이는 음식 등 자세한 내용은 계속 읽으십시오. ... '}, {'title': '<b>코로나</b> 바이러스에 걸렸는지 확인하는 방법 - wikiHow', 'link': 'https://ko.wikihow.com/%EC%BD%94%EB%A1%9C%EB%82%98-%EB%B0%94%EC%9D%B4%EB%9F%AC%EC%8A%A4%EC%97%90-%EA%B1%B8%EB%A0%B8%EB%8A%94%EC%A7%80-%ED%99%95%EC%9D%B8%ED%95%98%EB%8A%94-%EB%B0%A9%EB%B2%95', 'description': '<b>코로나</b> 바이러스에 걸렸는지 확인하는 방법. 최근 <b>코로나</b>바이러스(COVID-19)에 관한 뉴스들이 연일 보도되면서 사람들의 우려가 커지고 있다. 예방수칙을 철저히 따르면 감염 위험을 낮출 수 있다. 증상이 나타나는 경우에는 심각하게 받아들이고 올바르게 대처하는 것이 중요하다. <b>코로나</b>바이러스 감염이 의심된다면 우선 자가 격리에 들어가고, 당국에 신고(13...'}]}\n"
     ]
    },
    {
     "name": "stdout",
     "output_type": "stream",
     "text": [
      "{'lastBuildDate': 'Sat, 07 May 2022 23:17:45 +0900', 'total': 75, 'start': 0, 'display': 0, 'items': []}\n",
      "{'lastBuildDate': 'Sat, 07 May 2022 23:17:45 +0900', 'total': 0, 'start': 0, 'display': 0, 'items': []}\n",
      "{'lastBuildDate': 'Sat, 07 May 2022 23:17:46 +0900', 'total': 0, 'start': 0, 'display': 0, 'items': []}\n",
      "{'lastBuildDate': 'Sat, 07 May 2022 23:17:46 +0900', 'total': 0, 'start': 0, 'display': 0, 'items': []}\n",
      "{'lastBuildDate': 'Sat, 07 May 2022 23:17:46 +0900', 'total': 0, 'start': 0, 'display': 0, 'items': []}\n",
      "{'lastBuildDate': 'Sat, 07 May 2022 23:17:46 +0900', 'total': 0, 'start': 0, 'display': 0, 'items': []}\n",
      "{'lastBuildDate': 'Sat, 07 May 2022 23:17:46 +0900', 'total': 0, 'start': 0, 'display': 0, 'items': []}\n",
      "{'lastBuildDate': 'Sat, 07 May 2022 23:17:46 +0900', 'total': 0, 'start': 0, 'display': 0, 'items': []}\n",
      "{'lastBuildDate': 'Sat, 07 May 2022 23:17:46 +0900', 'total': 0, 'start': 0, 'display': 0, 'items': []}\n"
     ]
    }
   ],
   "source": [
    "# 네이버\n",
    "import os\n",
    "import sys\n",
    "import urllib.request\n",
    "import pandas as pd\n",
    "import json\n",
    "import re\n",
    "\n",
    "client_id = \"7MJsiwZO5aIph9spMJg6\"\n",
    "client_secret = \"qaEkrVmVIH\"\n",
    "\n",
    "query = urllib.parse.quote(input(\"검색질의: \")) #검색어 입력 받아서 진짜로 검색하는거임\n",
    "idx = 0\n",
    "display = 100 #최대 100건까지 검색결과 보여줌\n",
    "start = 1 #검색 시작 위치 1\n",
    "end = 1000\n",
    "\n",
    "web_df = pd.DataFrame(columns = ('Title', 'Link', 'Description')) #cloumn 수 3개인 데이터 프레임 생성\n",
    "\n",
    "for start_index in range(start, end, display):\n",
    "    # json 결과, 웸문서 겁색\n",
    "    url = \"https://openapi.naver.com/v1/search/webkr?query=\" + query \\\n",
    "    + \"&display=\" + str(display)\\\n",
    "    + \"&start=\" + str(start_index)\n",
    "    \n",
    "    request = urllib.request.Request(url)\n",
    "    request.add_header(\"X-Naver-Client-Id\",client_id)\n",
    "    request.add_header(\"X-Naver-Client-Secret\",client_secret)\n",
    "    response = urllib.request.urlopen(request)\n",
    "    \n",
    "    rescode = response.getcode()\n",
    "    if(rescode==200): #정상적으로 응답받음\n",
    "        response_body = response.read()\n",
    "        response_dic = json.loads(response_body.decode('utf-8')) #json으로 들어온 객체를 딕셔너리로 받아오기\n",
    "        print(response_dic)\n",
    "        items = response_dic['items'] # item 키에 해당하는 값 가져오기\n",
    "        \n",
    "        for item_index in range(0,len(items)):\n",
    "            # 태그를 제거하는 변수, <.*?> 는 태그안에 있는 모든 것들을 제거할 수 있게함\n",
    "            r_tag = re.compile('<.*?>') #태그를 제외하기 위한 패턴 지정하기\n",
    "            \n",
    "            title = re.sub(r_tag, '', items[item_index]['title']) # 정규식과 매치되는 부분을 다른 문자로 변경할 수 있다\n",
    "            link = items[item_index]['link']\n",
    "            description = re.sub(r_tag, '', items[item_index]['description'])\n",
    "            \n",
    "            web_df.loc[idx] = [title, link, description]\n",
    "            idx += 1\n",
    "            \n",
    "    else:\n",
    "        print(\"Error Code:\" + rescode)\n",
    "        \n",
    "web_df\n",
    "web_df.to_excel('코로나.xlsx') #엑셀로 저장해보자"
   ]
  },
  {
   "cell_type": "code",
   "execution_count": 2,
   "id": "eebe6368",
   "metadata": {},
   "outputs": [
    {
     "data": {
      "text/html": [
       "<div>\n",
       "<style scoped>\n",
       "    .dataframe tbody tr th:only-of-type {\n",
       "        vertical-align: middle;\n",
       "    }\n",
       "\n",
       "    .dataframe tbody tr th {\n",
       "        vertical-align: top;\n",
       "    }\n",
       "\n",
       "    .dataframe thead th {\n",
       "        text-align: right;\n",
       "    }\n",
       "</style>\n",
       "<table border=\"1\" class=\"dataframe\">\n",
       "  <thead>\n",
       "    <tr style=\"text-align: right;\">\n",
       "      <th></th>\n",
       "      <th>Title</th>\n",
       "      <th>Link</th>\n",
       "      <th>Description</th>\n",
       "    </tr>\n",
       "  </thead>\n",
       "  <tbody>\n",
       "  </tbody>\n",
       "</table>\n",
       "</div>"
      ],
      "text/plain": [
       "Empty DataFrame\n",
       "Columns: [Title, Link, Description]\n",
       "Index: []"
      ]
     },
     "execution_count": 2,
     "metadata": {},
     "output_type": "execute_result"
    }
   ],
   "source": [
    "web_df = pd.DataFrame(columns = ('Title', 'Link', 'Description')) #cloumn 수 3개인 데이터 프레임 생성\n",
    "web_df"
   ]
  },
  {
   "cell_type": "code",
   "execution_count": null,
   "id": "8a8b5bb2",
   "metadata": {},
   "outputs": [],
   "source": []
  }
 ],
 "metadata": {
  "kernelspec": {
   "display_name": "Python 3 (ipykernel)",
   "language": "python",
   "name": "python3"
  },
  "language_info": {
   "codemirror_mode": {
    "name": "ipython",
    "version": 3
   },
   "file_extension": ".py",
   "mimetype": "text/x-python",
   "name": "python",
   "nbconvert_exporter": "python",
   "pygments_lexer": "ipython3",
   "version": "3.9.7"
  }
 },
 "nbformat": 4,
 "nbformat_minor": 5
}
